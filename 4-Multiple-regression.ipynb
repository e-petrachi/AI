{
 "cells": [
  {
   "cell_type": "markdown",
   "metadata": {},
   "source": [
    "# Multiple Regression"
   ]
  },
  {
   "cell_type": "markdown",
   "metadata": {},
   "source": [
    "In questo notebook saranno utilizzati i dati delle vendite delle case in King County per predire i prezzi, utilizzando la multiple regression\n",
    "Cosa Faremo :\n",
    "\n",
    "* Utilizzo di funzioni in Graphlab per calcolare i coefficienti della regressione\n",
    "* Dati i coefficienti, i predittori e i pesi, scrivere una funzione per calcolare la RSS.\n",
    "* Guardare i coefficienti e comprendere il loro significato.\n",
    "* Valutare i modelli tramite la RSS"
   ]
  },
  {
   "cell_type": "markdown",
   "metadata": {},
   "source": [
    "# Import di  Graphlab create\n"
   ]
  },
  {
   "cell_type": "code",
   "execution_count": 1,
   "metadata": {
    "collapsed": true
   },
   "outputs": [],
   "source": [
    "import graphlab"
   ]
  },
  {
   "cell_type": "markdown",
   "metadata": {},
   "source": [
    "# Caricamento dei dati di input\n",
    "Consideriamo un dataset contentente i prezzi delle case vendute nella contea di King tra Maggio del 2014 e Maggio del 2015"
   ]
  },
  {
   "cell_type": "code",
   "execution_count": 34,
   "metadata": {
    "collapsed": false,
    "scrolled": true
   },
   "outputs": [],
   "source": [
    "# Scommentare la riga sotto per caricare il dataset\n",
    "#\n",
    "#sales = graphlab.SFrame.read_csv('data/kc_house_data.csv')"
   ]
  },
  {
   "cell_type": "markdown",
   "metadata": {},
   "source": [
    "# Divido i dati in training set e test set"
   ]
  },
  {
   "cell_type": "code",
   "execution_count": 3,
   "metadata": {
    "collapsed": false
   },
   "outputs": [],
   "source": [
    "train_data,test_data = sales.random_split(.8,seed=0)"
   ]
  },
  {
   "cell_type": "markdown",
   "metadata": {},
   "source": [
    "# Costruisci la multiple linear regression  "
   ]
  },
  {
   "cell_type": "markdown",
   "metadata": {},
   "source": [
    "Consideriamo un modello di multiple linear regression che considera:\n",
    "example_features = ['sqft_living', 'bedrooms', 'bathrooms'] sui dati di training:\n",
    "\n"
   ]
  },
  {
   "cell_type": "code",
   "execution_count": 4,
   "metadata": {
    "collapsed": false
   },
   "outputs": [
    {
     "data": {
      "text/html": [
       "<pre>Linear regression:</pre>"
      ],
      "text/plain": [
       "<pre>Linear regression:</pre>"
      ]
     },
     "execution_count": 0,
     "metadata": {},
     "output_type": "execute_result"
    },
    {
     "data": {
      "text/html": [
       "<pre>--------------------------------------------------------</pre>"
      ],
      "text/plain": [
       "<pre>--------------------------------------------------------</pre>"
      ]
     },
     "execution_count": 0,
     "metadata": {},
     "output_type": "execute_result"
    },
    {
     "data": {
      "text/html": [
       "<pre>Number of examples          : 17384</pre>"
      ],
      "text/plain": [
       "<pre>Number of examples          : 17384</pre>"
      ]
     },
     "execution_count": 0,
     "metadata": {},
     "output_type": "execute_result"
    },
    {
     "data": {
      "text/html": [
       "<pre>Number of features          : 3</pre>"
      ],
      "text/plain": [
       "<pre>Number of features          : 3</pre>"
      ]
     },
     "execution_count": 0,
     "metadata": {},
     "output_type": "execute_result"
    },
    {
     "data": {
      "text/html": [
       "<pre>Number of unpacked features : 3</pre>"
      ],
      "text/plain": [
       "<pre>Number of unpacked features : 3</pre>"
      ]
     },
     "execution_count": 0,
     "metadata": {},
     "output_type": "execute_result"
    },
    {
     "data": {
      "text/html": [
       "<pre>Number of coefficients    : 4</pre>"
      ],
      "text/plain": [
       "<pre>Number of coefficients    : 4</pre>"
      ]
     },
     "execution_count": 0,
     "metadata": {},
     "output_type": "execute_result"
    },
    {
     "data": {
      "text/html": [
       "<pre>Starting Newton Method</pre>"
      ],
      "text/plain": [
       "<pre>Starting Newton Method</pre>"
      ]
     },
     "execution_count": 0,
     "metadata": {},
     "output_type": "execute_result"
    },
    {
     "data": {
      "text/html": [
       "<pre>--------------------------------------------------------</pre>"
      ],
      "text/plain": [
       "<pre>--------------------------------------------------------</pre>"
      ]
     },
     "execution_count": 0,
     "metadata": {},
     "output_type": "execute_result"
    },
    {
     "data": {
      "text/html": [
       "<pre>+-----------+----------+--------------+--------------------+---------------+</pre>"
      ],
      "text/plain": [
       "<pre>+-----------+----------+--------------+--------------------+---------------+</pre>"
      ]
     },
     "execution_count": 0,
     "metadata": {},
     "output_type": "execute_result"
    },
    {
     "data": {
      "text/html": [
       "<pre>| Iteration | Passes   | Elapsed Time | Training-max_error | Training-rmse |</pre>"
      ],
      "text/plain": [
       "<pre>| Iteration | Passes   | Elapsed Time | Training-max_error | Training-rmse |</pre>"
      ]
     },
     "execution_count": 0,
     "metadata": {},
     "output_type": "execute_result"
    },
    {
     "data": {
      "text/html": [
       "<pre>+-----------+----------+--------------+--------------------+---------------+</pre>"
      ],
      "text/plain": [
       "<pre>+-----------+----------+--------------+--------------------+---------------+</pre>"
      ]
     },
     "execution_count": 0,
     "metadata": {},
     "output_type": "execute_result"
    },
    {
     "data": {
      "text/html": [
       "<pre>| 1         | 2        | 1.027018     | 4146407.590959     | 258679.804259 |</pre>"
      ],
      "text/plain": [
       "<pre>| 1         | 2        | 1.027018     | 4146407.590959     | 258679.804259 |</pre>"
      ]
     },
     "execution_count": 0,
     "metadata": {},
     "output_type": "execute_result"
    },
    {
     "data": {
      "text/html": [
       "<pre>+-----------+----------+--------------+--------------------+---------------+</pre>"
      ],
      "text/plain": [
       "<pre>+-----------+----------+--------------+--------------------+---------------+</pre>"
      ]
     },
     "execution_count": 0,
     "metadata": {},
     "output_type": "execute_result"
    }
   ],
   "source": [
    "example_features = ['sqft_living', 'bedrooms', 'bathrooms']\n",
    "example_model = graphlab.linear_regression.create(train_data, target = 'price', \n",
    "                                                  features = example_features, \n",
    "                                                  validation_set = None)"
   ]
  },
  {
   "cell_type": "markdown",
   "metadata": {},
   "source": [
    "Estraiamo i coefficienti calcolati dal modello"
   ]
  },
  {
   "cell_type": "code",
   "execution_count": 5,
   "metadata": {
    "collapsed": false
   },
   "outputs": [
    {
     "name": "stdout",
     "output_type": "stream",
     "text": [
      "+-------------+-------+----------------+---------------+\n|     name    | index |     value      |     stderr    |\n+-------------+-------+----------------+---------------+\n| (intercept) |  None | 87910.0692067  | 7873.33813675 |\n| sqft_living |  None | 315.403441118  | 3.45570032294 |\n|   bedrooms  |  None | -65080.2154416 | 2717.45685213 |\n|  bathrooms  |  None | 6944.02087632  | 3923.11492813 |\n+-------------+-------+----------------+---------------+\n[4 rows x 4 columns]\n\n"
     ]
    }
   ],
   "source": [
    "example_weight_summary = example_model.get(\"coefficients\")\n",
    "print example_weight_summary"
   ]
  },
  {
   "cell_type": "code",
   "execution_count": 6,
   "metadata": {
    "collapsed": false
   },
   "outputs": [
    {
     "name": "stdout",
     "output_type": "stream",
     "text": [
      "Canvas is accessible via web browser at the URL: http://localhost:49660/index.html\nOpening Canvas in default web browser.\n"
     ]
    }
   ],
   "source": [
    "example_model.show()"
   ]
  },
  {
   "cell_type": "markdown",
   "metadata": {},
   "source": [
    "# Fare predizioni\n",
    "\n",
    "Utilizziamo la funzione predict, già pronta in graphlab, per predire i risultati dei dati di training, basandosi sul modello creato"
   ]
  },
  {
   "cell_type": "code",
   "execution_count": 7,
   "metadata": {
    "collapsed": false,
    "scrolled": false
   },
   "outputs": [
    {
     "name": "stdout",
     "output_type": "stream",
     "text": [
      "271789.504278\n"
     ]
    }
   ],
   "source": [
    "example_predictions = example_model.predict(train_data)\n",
    "print example_predictions[0] # should be 271789.505878"
   ]
  },
  {
   "cell_type": "code",
   "execution_count": 8,
   "metadata": {
    "collapsed": false
   },
   "outputs": [
    {
     "data": {
      "text/plain": [
       "dtype: float\nRows: 10\n[221900.0, 538000.0, 180000.0, 604000.0, 510000.0, 1225000.0, 257500.0, 291850.0, 229500.0, 323000.0]"
      ]
     },
     "execution_count": 8,
     "metadata": {},
     "output_type": "execute_result"
    }
   ],
   "source": [
    "train_data['price'].head()"
   ]
  },
  {
   "cell_type": "code",
   "execution_count": 9,
   "metadata": {
    "collapsed": false,
    "scrolled": true
   },
   "outputs": [
    {
     "data": {
      "text/plain": [
       "dtype: float\nRows: 10\n[271789.50427757535, 718880.3135271334, 207554.3088607718, 466612.0146607226, 436435.24571294733, 1568323.9522438196, 449210.37137116166, 237413.101781566, 461031.5689484328, 506141.9787859095]"
      ]
     },
     "execution_count": 9,
     "metadata": {},
     "output_type": "execute_result"
    }
   ],
   "source": [
    "example_predictions.head()"
   ]
  },
  {
   "cell_type": "code",
   "execution_count": 10,
   "metadata": {
    "collapsed": false
   },
   "outputs": [
    {
     "name": "stdout",
     "output_type": "stream",
     "text": [
      "-49889.5042776\n"
     ]
    }
   ],
   "source": [
    "e = (train_data['price'][0]-example_predictions[0])\n",
    "print e"
   ]
  },
  {
   "cell_type": "markdown",
   "metadata": {},
   "source": [
    "# Calcolo del RSS"
   ]
  },
  {
   "cell_type": "markdown",
   "metadata": {},
   "source": [
    "Dato il modello, i dati e l'output, calcoliamo RSS"
   ]
  },
  {
   "cell_type": "code",
   "execution_count": 11,
   "metadata": {
    "collapsed": true
   },
   "outputs": [],
   "source": [
    "def get_residual_sum_of_squares(model, data, outcome):\n",
    "    # Calcoliamo le prediction\n",
    "    predictions = model.predict(data)\n",
    "    # Calcolo degli errori\n",
    "    residuals = predictions - outcome\n",
    "    # calcolo della RSS\n",
    "    RSS = (residuals * residuals).sum()\n",
    "    return(RSS)    "
   ]
  },
  {
   "cell_type": "markdown",
   "metadata": {},
   "source": [
    "Test della funzione sui dati di test"
   ]
  },
  {
   "cell_type": "code",
   "execution_count": 12,
   "metadata": {
    "collapsed": false
   },
   "outputs": [
    {
     "name": "stdout",
     "output_type": "stream",
     "text": [
      "2.73761534465e+14\n"
     ]
    }
   ],
   "source": [
    "rss_example_train = get_residual_sum_of_squares(example_model, test_data, test_data['price'])\n",
    "print rss_example_train # should be 2.7376153833e+14"
   ]
  },
  {
   "cell_type": "markdown",
   "metadata": {},
   "source": [
    "# Creazione di nuove features"
   ]
  },
  {
   "cell_type": "code",
   "execution_count": 13,
   "metadata": {
    "collapsed": true
   },
   "outputs": [],
   "source": [
    "from math import log"
   ]
  },
  {
   "cell_type": "markdown",
   "metadata": {},
   "source": [
    "E’ possibile considerare come nuove features anche trasformazioni delle feature esistenti con lo scopo di ottenere una migliore predizione.\n",
    "Creiamo 4 nuove features :\n",
    "* bedrooms_squared = (bedrooms*bedrooms). \n",
    "Questo permetterà di creare una distinzione netta tra le case con poche camere\n",
    "da letto (es: 1) e quelle con molte camere (es: 4) in quanto 1^2 =1, ma 4^2 =16.\n",
    "\n",
    "* bed_bath_rooms = bedrooms*bathrooms\n",
    "E’ anche chiamata “feature interaction” ed è più alta quando ci sono sia tante\n",
    "camere che tanti bagni\n",
    "\n",
    "* log_sqft_living = log(sqft_living)\n",
    "Fare il logaritmo ha l’effetto di portare i valori più grandi vicini e di espandere\n",
    "quelli più piccoli\n",
    "\n",
    "* lat_plus_long = lat + long"
   ]
  },
  {
   "cell_type": "code",
   "execution_count": 16,
   "metadata": {
    "collapsed": false
   },
   "outputs": [],
   "source": [
    "train_data['bedrooms_squared'] = train_data['bedrooms'].apply(lambda x: x**2)\n",
    "test_data['bedrooms_squared'] = test_data['bedrooms'].apply(lambda x: x**2)\n",
    "\n",
    "train_data['bed_plus_bath'] = train_data.apply(lambda x: x['bedrooms'] * x['bathrooms'])\n",
    "test_data['bed_plus_bath'] = test_data.apply(lambda x: x['bedrooms'] * x['bathrooms'])\n",
    "\n",
    "train_data['log_sqft_living'] = train_data['sqft_living'].apply(lambda x: log(x))\n",
    "test_data['log_sqft_living'] = test_data['sqft_living'].apply(lambda x: log(x))\n",
    "\n",
    "train_data['lat_plus_long'] = train_data.apply(lambda x: x['lat'] + x['long'])\n",
    "test_data['lat_plus_long'] = test_data.apply(lambda x: x['lat'] + x['long'])"
   ]
  },
  {
   "cell_type": "code",
   "execution_count": 18,
   "metadata": {
    "collapsed": false
   },
   "outputs": [
    {
     "name": "stdout",
     "output_type": "stream",
     "text": [
      "12.4466777016\n7.50390163159\n7.55027467965\n-74.653333554\n"
     ]
    }
   ],
   "source": [
    "print test_data['bedrooms_squared'].mean()\n",
    "print test_data['bed_plus_bath'].mean()\n",
    "print test_data['log_sqft_living'].mean()\n",
    "print test_data['lat_plus_long'].mean()"
   ]
  },
  {
   "cell_type": "markdown",
   "metadata": {},
   "source": [
    "# Confronto tra modelli"
   ]
  },
  {
   "cell_type": "markdown",
   "metadata": {},
   "source": [
    "Definisco 3 nuovi modelli, con le nuove features create.\n",
    "* Modello 1: sqft_living, #bedrooms, #bathrooms, latitude and longitude\n",
    "* Modello 2: Modello 1+ bed_bath_rooms\n",
    "* Modello 3: Modello 2 + bedrooms_squared, log_sqft_living,lat_plus_long."
   ]
  },
  {
   "cell_type": "code",
   "execution_count": 28,
   "metadata": {
    "collapsed": true
   },
   "outputs": [],
   "source": [
    "model_1_features = ['sqft_living', 'bedrooms', 'bathrooms', 'lat', 'long']\n",
    "model_2_features = model_1_features + ['bed_plus_bath']\n",
    "model_3_features = model_2_features + ['bedrooms_squared', 'log_sqft_living', 'lat_plus_long']"
   ]
  },
  {
   "cell_type": "markdown",
   "metadata": {},
   "source": [
    "Ora che ho le features, posso imparare i parametri per i tre differenti modelli nel predire il prezzo utilizzando graphlab.linear_regression.create() e guardando il valore dei coefficienti. "
   ]
  },
  {
   "cell_type": "code",
   "execution_count": 26,
   "metadata": {
    "collapsed": false
   },
   "outputs": [
    {
     "data": {
      "text/html": [
       "<pre>Linear regression:</pre>"
      ],
      "text/plain": [
       "<pre>Linear regression:</pre>"
      ]
     },
     "execution_count": 0,
     "metadata": {},
     "output_type": "execute_result"
    },
    {
     "data": {
      "text/html": [
       "<pre>--------------------------------------------------------</pre>"
      ],
      "text/plain": [
       "<pre>--------------------------------------------------------</pre>"
      ]
     },
     "execution_count": 0,
     "metadata": {},
     "output_type": "execute_result"
    },
    {
     "data": {
      "text/html": [
       "<pre>Number of examples          : 17384</pre>"
      ],
      "text/plain": [
       "<pre>Number of examples          : 17384</pre>"
      ]
     },
     "execution_count": 0,
     "metadata": {},
     "output_type": "execute_result"
    },
    {
     "data": {
      "text/html": [
       "<pre>Number of features          : 6</pre>"
      ],
      "text/plain": [
       "<pre>Number of features          : 6</pre>"
      ]
     },
     "execution_count": 0,
     "metadata": {},
     "output_type": "execute_result"
    },
    {
     "data": {
      "text/html": [
       "<pre>Number of unpacked features : 6</pre>"
      ],
      "text/plain": [
       "<pre>Number of unpacked features : 6</pre>"
      ]
     },
     "execution_count": 0,
     "metadata": {},
     "output_type": "execute_result"
    },
    {
     "data": {
      "text/html": [
       "<pre>Number of coefficients    : 7</pre>"
      ],
      "text/plain": [
       "<pre>Number of coefficients    : 7</pre>"
      ]
     },
     "execution_count": 0,
     "metadata": {},
     "output_type": "execute_result"
    },
    {
     "data": {
      "text/html": [
       "<pre>Starting Newton Method</pre>"
      ],
      "text/plain": [
       "<pre>Starting Newton Method</pre>"
      ]
     },
     "execution_count": 0,
     "metadata": {},
     "output_type": "execute_result"
    },
    {
     "data": {
      "text/html": [
       "<pre>--------------------------------------------------------</pre>"
      ],
      "text/plain": [
       "<pre>--------------------------------------------------------</pre>"
      ]
     },
     "execution_count": 0,
     "metadata": {},
     "output_type": "execute_result"
    },
    {
     "data": {
      "text/html": [
       "<pre>+-----------+----------+--------------+--------------------+---------------+</pre>"
      ],
      "text/plain": [
       "<pre>+-----------+----------+--------------+--------------------+---------------+</pre>"
      ]
     },
     "execution_count": 0,
     "metadata": {},
     "output_type": "execute_result"
    },
    {
     "data": {
      "text/html": [
       "<pre>| Iteration | Passes   | Elapsed Time | Training-max_error | Training-rmse |</pre>"
      ],
      "text/plain": [
       "<pre>| Iteration | Passes   | Elapsed Time | Training-max_error | Training-rmse |</pre>"
      ]
     },
     "execution_count": 0,
     "metadata": {},
     "output_type": "execute_result"
    },
    {
     "data": {
      "text/html": [
       "<pre>+-----------+----------+--------------+--------------------+---------------+</pre>"
      ],
      "text/plain": [
       "<pre>+-----------+----------+--------------+--------------------+---------------+</pre>"
      ]
     },
     "execution_count": 0,
     "metadata": {},
     "output_type": "execute_result"
    },
    {
     "data": {
      "text/html": [
       "<pre>| 1         | 2        | 0.040354     | 4014053.068747     | 235190.383243 |</pre>"
      ],
      "text/plain": [
       "<pre>| 1         | 2        | 0.040354     | 4014053.068747     | 235190.383243 |</pre>"
      ]
     },
     "execution_count": 0,
     "metadata": {},
     "output_type": "execute_result"
    }
   ],
   "source": [
    "# Learn the three models: (don't forget to set validation_set = None)\n",
    "model_1 = graphlab.linear_regression.create(train_data, target = 'price', features = model_1_features, validation_set = None)\n"
   ]
  },
  {
   "cell_type": "code",
   "execution_count": 29,
   "metadata": {
    "collapsed": false
   },
   "outputs": [
    {
     "data": {
      "text/html": [
       "<pre>Linear regression:</pre>"
      ],
      "text/plain": [
       "<pre>Linear regression:</pre>"
      ]
     },
     "execution_count": 0,
     "metadata": {},
     "output_type": "execute_result"
    },
    {
     "data": {
      "text/html": [
       "<pre>--------------------------------------------------------</pre>"
      ],
      "text/plain": [
       "<pre>--------------------------------------------------------</pre>"
      ]
     },
     "execution_count": 0,
     "metadata": {},
     "output_type": "execute_result"
    },
    {
     "data": {
      "text/html": [
       "<pre>Number of examples          : 17384</pre>"
      ],
      "text/plain": [
       "<pre>Number of examples          : 17384</pre>"
      ]
     },
     "execution_count": 0,
     "metadata": {},
     "output_type": "execute_result"
    },
    {
     "data": {
      "text/html": [
       "<pre>Number of features          : 6</pre>"
      ],
      "text/plain": [
       "<pre>Number of features          : 6</pre>"
      ]
     },
     "execution_count": 0,
     "metadata": {},
     "output_type": "execute_result"
    },
    {
     "data": {
      "text/html": [
       "<pre>Number of unpacked features : 6</pre>"
      ],
      "text/plain": [
       "<pre>Number of unpacked features : 6</pre>"
      ]
     },
     "execution_count": 0,
     "metadata": {},
     "output_type": "execute_result"
    },
    {
     "data": {
      "text/html": [
       "<pre>Number of coefficients    : 7</pre>"
      ],
      "text/plain": [
       "<pre>Number of coefficients    : 7</pre>"
      ]
     },
     "execution_count": 0,
     "metadata": {},
     "output_type": "execute_result"
    },
    {
     "data": {
      "text/html": [
       "<pre>Starting Newton Method</pre>"
      ],
      "text/plain": [
       "<pre>Starting Newton Method</pre>"
      ]
     },
     "execution_count": 0,
     "metadata": {},
     "output_type": "execute_result"
    },
    {
     "data": {
      "text/html": [
       "<pre>--------------------------------------------------------</pre>"
      ],
      "text/plain": [
       "<pre>--------------------------------------------------------</pre>"
      ]
     },
     "execution_count": 0,
     "metadata": {},
     "output_type": "execute_result"
    },
    {
     "data": {
      "text/html": [
       "<pre>+-----------+----------+--------------+--------------------+---------------+</pre>"
      ],
      "text/plain": [
       "<pre>+-----------+----------+--------------+--------------------+---------------+</pre>"
      ]
     },
     "execution_count": 0,
     "metadata": {},
     "output_type": "execute_result"
    },
    {
     "data": {
      "text/html": [
       "<pre>| Iteration | Passes   | Elapsed Time | Training-max_error | Training-rmse |</pre>"
      ],
      "text/plain": [
       "<pre>| Iteration | Passes   | Elapsed Time | Training-max_error | Training-rmse |</pre>"
      ]
     },
     "execution_count": 0,
     "metadata": {},
     "output_type": "execute_result"
    },
    {
     "data": {
      "text/html": [
       "<pre>+-----------+----------+--------------+--------------------+---------------+</pre>"
      ],
      "text/plain": [
       "<pre>+-----------+----------+--------------+--------------------+---------------+</pre>"
      ]
     },
     "execution_count": 0,
     "metadata": {},
     "output_type": "execute_result"
    },
    {
     "data": {
      "text/html": [
       "<pre>| 1         | 2        | 0.040354     | 4014053.068747     | 235190.383243 |</pre>"
      ],
      "text/plain": [
       "<pre>| 1         | 2        | 0.040354     | 4014053.068747     | 235190.383243 |</pre>"
      ]
     },
     "execution_count": 0,
     "metadata": {},
     "output_type": "execute_result"
    }
   ],
   "source": [
    "model_2 = graphlab.linear_regression.create(train_data, target = 'price', features = model_2_features, validation_set = None)"
   ]
  },
  {
   "cell_type": "code",
   "execution_count": 30,
   "metadata": {},
   "outputs": [
    {
     "data": {
      "text/html": [
       "<pre>Linear regression:</pre>"
      ],
      "text/plain": [
       "<pre>Linear regression:</pre>"
      ]
     },
     "execution_count": 0,
     "metadata": {},
     "output_type": "execute_result"
    },
    {
     "data": {
      "text/html": [
       "<pre>--------------------------------------------------------</pre>"
      ],
      "text/plain": [
       "<pre>--------------------------------------------------------</pre>"
      ]
     },
     "execution_count": 0,
     "metadata": {},
     "output_type": "execute_result"
    },
    {
     "data": {
      "text/html": [
       "<pre>Number of examples          : 17384</pre>"
      ],
      "text/plain": [
       "<pre>Number of examples          : 17384</pre>"
      ]
     },
     "execution_count": 0,
     "metadata": {},
     "output_type": "execute_result"
    },
    {
     "data": {
      "text/html": [
       "<pre>Number of features          : 9</pre>"
      ],
      "text/plain": [
       "<pre>Number of features          : 9</pre>"
      ]
     },
     "execution_count": 0,
     "metadata": {},
     "output_type": "execute_result"
    },
    {
     "data": {
      "text/html": [
       "<pre>Number of unpacked features : 9</pre>"
      ],
      "text/plain": [
       "<pre>Number of unpacked features : 9</pre>"
      ]
     },
     "execution_count": 0,
     "metadata": {},
     "output_type": "execute_result"
    },
    {
     "data": {
      "text/html": [
       "<pre>Number of coefficients    : 10</pre>"
      ],
      "text/plain": [
       "<pre>Number of coefficients    : 10</pre>"
      ]
     },
     "execution_count": 0,
     "metadata": {},
     "output_type": "execute_result"
    },
    {
     "data": {
      "text/html": [
       "<pre>Starting Newton Method</pre>"
      ],
      "text/plain": [
       "<pre>Starting Newton Method</pre>"
      ]
     },
     "execution_count": 0,
     "metadata": {},
     "output_type": "execute_result"
    },
    {
     "data": {
      "text/html": [
       "<pre>--------------------------------------------------------</pre>"
      ],
      "text/plain": [
       "<pre>--------------------------------------------------------</pre>"
      ]
     },
     "execution_count": 0,
     "metadata": {},
     "output_type": "execute_result"
    },
    {
     "data": {
      "text/html": [
       "<pre>+-----------+----------+--------------+--------------------+---------------+</pre>"
      ],
      "text/plain": [
       "<pre>+-----------+----------+--------------+--------------------+---------------+</pre>"
      ]
     },
     "execution_count": 0,
     "metadata": {},
     "output_type": "execute_result"
    }
   ],
   "source": [
    "model_3 = graphlab.linear_regression.create(train_data, target = 'price', features = model_3_features, validation_set = None)"
   ]
  },
  {
   "cell_type": "code",
   "execution_count": 31,
   "metadata": {
    "collapsed": false
   },
   "outputs": [
    {
     "name": "stdout",
     "output_type": "stream",
     "text": [
      "model 1\n+-------------+-------+----------------+---------------+\n|     name    | index |     value      |     stderr    |\n+-------------+-------+----------------+---------------+\n| (intercept) |  None | -56141852.4692 | 1649928.35825 |\n| sqft_living |  None | 310.263506724  | 3.18882062328 |\n|   bedrooms  |  None | -59577.6052126 | 2487.27455846 |\n|  bathrooms  |  None | 13812.4068763  | 3593.53440572 |\n|     lat     |  None | 629863.119956  |  13120.68867  |\n|     long    |  None | -214800.952332 | 13283.8203911 |\n+-------------+-------+----------------+---------------+\n[6 rows x 4 columns]\n\nmodel 2\n+---------------+-------+----------------+---------------+\n|      name     | index |     value      |     stderr    |\n+---------------+-------+----------------+---------------+\n|  (intercept)  |  None | -54412036.4015 | 1650346.09777 |\n|  sqft_living  |  None |  304.44950524  | 3.20216518282 |\n|    bedrooms   |  None | -116366.742819 | 4805.53398548 |\n|   bathrooms   |  None | -77972.1056406 | 7565.03416075 |\n|      lat      |  None | 625431.042083  | 13058.3308363 |\n|      long     |  None | -203970.824968 | 13267.6490436 |\n| bed_plus_bath |  None | 26961.7302978  | 1956.35899366 |\n+---------------+-------+----------------+---------------+\n[7 rows x 4 columns]\n\nmodel 3\n+------------------+-------+----------------+---------------+\n|       name       | index |     value      |     stderr    |\n+------------------+-------+----------------+---------------+\n|   (intercept)    |  None | -52975504.223  |  1615141.2891 |\n|   sqft_living    |  None | 529.193272244  | 7.69912257297 |\n|     bedrooms     |  None | 28944.2171578  | 9395.70086429 |\n|    bathrooms     |  None | 65659.9030481  | 10795.3200464 |\n|       lat        |  None | 704763.165284  | 767073325.699 |\n|       long       |  None | -137781.471323 | 767073325.479 |\n|  bed_plus_bath   |  None | -8477.92763672 | 2858.94965516 |\n| bedrooms_squared |  None | -6072.03763875 | 1494.96716539 |\n| log_sqft_living  |  None | -563459.758031 | 17567.8176001 |\n|  lat_plus_long   |  None | -83220.6813912 | 767073325.621 |\n+------------------+-------+----------------+---------------+\n[10 rows x 4 columns]\n\n"
     ]
    }
   ],
   "source": [
    "#estrazione dei coefficienti per ciascun modello \n",
    "print 'model 1'\n",
    "print model_1.get(\"coefficients\")\n",
    "print 'model 2'\n",
    "print model_2.get(\"coefficients\")\n",
    "print 'model 3'\n",
    "print model_3.get(\"coefficients\")"
   ]
  },
  {
   "cell_type": "markdown",
   "metadata": {},
   "source": [
    "# Quale modello è il migliore? "
   ]
  },
  {
   "cell_type": "code",
   "execution_count": 32,
   "metadata": {
    "collapsed": false
   },
   "outputs": [
    {
     "name": "stdout",
     "output_type": "stream",
     "text": [
      "9.7132387161e+14\n9.61587552577e+14\n9.05273774726e+14\n"
     ]
    }
   ],
   "source": [
    "#Calcolo la RSS per ognuno dei tre modelli sui dati di TRAINING\n",
    "print get_residual_sum_of_squares(model_1, train_data, train_data['price'])\n",
    "print get_residual_sum_of_squares(model_2, train_data, train_data['price'])\n",
    "print get_residual_sum_of_squares(model_3, train_data, train_data['price'])"
   ]
  },
  {
   "cell_type": "code",
   "execution_count": 33,
   "metadata": {
    "collapsed": false
   },
   "outputs": [
    {
     "name": "stdout",
     "output_type": "stream",
     "text": [
      "2.26566318597e+14\n2.24366990581e+14\n2.51824565049e+14\n"
     ]
    }
   ],
   "source": [
    "#Calcolo la RSS per ognuno dei tre modelli sui dati di TEST\n",
    "print get_residual_sum_of_squares(model_1, test_data, test_data['price'])\n",
    "print get_residual_sum_of_squares(model_2, test_data, test_data['price'])\n",
    "print get_residual_sum_of_squares(model_3, test_data, test_data['price'])"
   ]
  },
  {
   "cell_type": "markdown",
   "metadata": {},
   "source": [
    "** Il modello migliore è model_2 poichè ha RSS sui test_data minore ** "
   ]
  }
 ],
 "metadata": {
  "kernelspec": {
   "display_name": "Python 2",
   "language": "python",
   "name": "python2"
  },
  "language_info": {
   "codemirror_mode": {
    "name": "ipython",
    "version": 2
   },
   "file_extension": ".py",
   "mimetype": "text/x-python",
   "name": "python",
   "nbconvert_exporter": "python",
   "pygments_lexer": "ipython2",
   "version": "2.7.13"
  }
 },
 "nbformat": 4,
 "nbformat_minor": 0
}
