{
 "cells": [
  {
   "cell_type": "code",
   "execution_count": 2,
   "metadata": {
    "collapsed": false
   },
   "outputs": [],
   "source": [
    "from __future__ import print_function\n",
    "\n",
    "f = open('data\\powers.txt','w')\n",
    "for i in range(1,1001):\n",
    "    print(i,i**2,i**2,i**3,i**4, sep=', ', file=f)\n",
    "f.close()"
   ]
  },
  {
   "cell_type": "code",
   "execution_count": 3,
   "metadata": {
    "collapsed": false
   },
   "outputs": [
    {
     "name": "stdout",
     "output_type": "stream",
     "text": [
      "500 cubed is 250000\n"
     ]
    }
   ],
   "source": [
    "f = open('data\\powers.txt','r')\n",
    "squares, cubes, fourths = [], [], []\n",
    "for line in f.readlines():\n",
    "    fields = line.split(',')\n",
    "    squares.append(int(fields[1]))\n",
    "    cubes.append(int(fields[2]))\n",
    "    fourths.append(int(fields[3]))\n",
    "f.close()\n",
    "n=500\n",
    "print(n, 'cubed is', cubes[n-1])"
   ]
  }
 ],
 "metadata": {
  "kernelspec": {
   "display_name": "Python 2",
   "language": "python",
   "name": "python2"
  },
  "language_info": {
   "codemirror_mode": {
    "name": "ipython",
    "version": 2
   },
   "file_extension": ".py",
   "mimetype": "text/x-python",
   "name": "python",
   "nbconvert_exporter": "python",
   "pygments_lexer": "ipython2",
   "version": "2.7.13"
  }
 },
 "nbformat": 4,
 "nbformat_minor": 0
}
