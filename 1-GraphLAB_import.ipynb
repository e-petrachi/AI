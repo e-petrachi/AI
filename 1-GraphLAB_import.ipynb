{
 "cells": [
  {
   "cell_type": "code",
   "execution_count": 1,
   "metadata": {
    "collapsed": false
   },
   "outputs": [
    {
     "name": "stdout",
     "output_type": "stream",
     "text": [
      "This non-commercial license of GraphLab Create for academic use is assigned to enr.petrachi@stud.uniroma3.it and will expire on March 06, 2018.\n"
     ]
    },
    {
     "name": "stderr",
     "output_type": "stream",
     "text": [
      "[INFO] graphlab.cython.cy_server: GraphLab Create v2.1 started. Logging: /tmp/graphlab_server_1489590997.log\n"
     ]
    },
    {
     "data": {
      "text/html": [
       "<pre>Downloading https://static.turi.com/datasets/millionsong/song_data.csv to /var/tmp/graphlab-Administrator/774/cb567466-74ad-4b11-a137-24cb0dd6ecd8.csv</pre>"
      ],
      "text/plain": [
       "Downloading https://static.turi.com/datasets/millionsong/song_data.csv to /var/tmp/graphlab-Administrator/774/cb567466-74ad-4b11-a137-24cb0dd6ecd8.csv"
      ]
     },
     "metadata": {},
     "output_type": "execute_result"
    },
    {
     "data": {
      "text/html": [
       "<pre>Finished parsing file https://static.turi.com/datasets/millionsong/song_data.csv</pre>"
      ],
      "text/plain": [
       "Finished parsing file https://static.turi.com/datasets/millionsong/song_data.csv"
      ]
     },
     "metadata": {},
     "output_type": "execute_result"
    },
    {
     "data": {
      "text/html": [
       "<pre>Parsing completed. Parsed 100 lines in 1.26664 secs.</pre>"
      ],
      "text/plain": [
       "Parsing completed. Parsed 100 lines in 1.26664 secs."
      ]
     },
     "metadata": {},
     "output_type": "execute_result"
    },
    {
     "name": "stdout",
     "output_type": "stream",
     "text": [
      "------------------------------------------------------\n",
      "Inferred types from first 100 line(s) of file as \n",
      "column_type_hints=[str,str,str,str,int]\n",
      "If parsing fails due to incorrect types, you can correct\n",
      "the inferred type list above and pass it to read_csv in\n",
      "the column_type_hints argument\n",
      "------------------------------------------------------\n"
     ]
    },
    {
     "data": {
      "text/html": [
       "<pre>Read 637410 lines. Lines per second: 388348</pre>"
      ],
      "text/plain": [
       "Read 637410 lines. Lines per second: 388348"
      ]
     },
     "metadata": {},
     "output_type": "execute_result"
    },
    {
     "data": {
      "text/html": [
       "<pre>Finished parsing file https://static.turi.com/datasets/millionsong/song_data.csv</pre>"
      ],
      "text/plain": [
       "Finished parsing file https://static.turi.com/datasets/millionsong/song_data.csv"
      ]
     },
     "metadata": {},
     "output_type": "execute_result"
    },
    {
     "data": {
      "text/html": [
       "<pre>Parsing completed. Parsed 1000000 lines in 2.14785 secs.</pre>"
      ],
      "text/plain": [
       "Parsing completed. Parsed 1000000 lines in 2.14785 secs."
      ]
     },
     "metadata": {},
     "output_type": "execute_result"
    },
    {
     "name": "stdout",
     "output_type": "stream",
     "text": [
      "Canvas is accessible via web browser at the URL: http://localhost:49517/index.html\n",
      "Opening Canvas in default web browser.\n"
     ]
    }
   ],
   "source": [
    "import graphlab as gl\n",
    "\n",
    "url = 'https://static.turi.com/datasets/millionsong/song_data.csv'\n",
    "songs = gl.SFrame.read_csv(url)\n",
    "\n",
    "songs.show()"
   ]
  },
  {
   "cell_type": "code",
   "execution_count": 2,
   "metadata": {
    "collapsed": false
   },
   "outputs": [
    {
     "data": {
      "text/html": [
       "<pre>Downloading https://static.turi.com/datasets/regression/Housing.csv to /var/tmp/graphlab-Administrator/774/1669d697-14cb-4000-9767-b5889ebba792.csv</pre>"
      ],
      "text/plain": [
       "Downloading https://static.turi.com/datasets/regression/Housing.csv to /var/tmp/graphlab-Administrator/774/1669d697-14cb-4000-9767-b5889ebba792.csv"
      ]
     },
     "metadata": {},
     "output_type": "execute_result"
    },
    {
     "data": {
      "text/html": [
       "<pre>Finished parsing file https://static.turi.com/datasets/regression/Housing.csv</pre>"
      ],
      "text/plain": [
       "Finished parsing file https://static.turi.com/datasets/regression/Housing.csv"
      ]
     },
     "metadata": {},
     "output_type": "execute_result"
    },
    {
     "data": {
      "text/html": [
       "<pre>Parsing completed. Parsed 100 lines in 0.013044 secs.</pre>"
      ],
      "text/plain": [
       "Parsing completed. Parsed 100 lines in 0.013044 secs."
      ]
     },
     "metadata": {},
     "output_type": "execute_result"
    },
    {
     "name": "stdout",
     "output_type": "stream",
     "text": [
      "------------------------------------------------------\n",
      "Inferred types from first 100 line(s) of file as \n",
      "column_type_hints=[int,int,int,int,int,int,str,str,str,str,str,int,str]\n",
      "If parsing fails due to incorrect types, you can correct\n",
      "the inferred type list above and pass it to read_csv in\n",
      "the column_type_hints argument\n",
      "------------------------------------------------------\n"
     ]
    },
    {
     "data": {
      "text/html": [
       "<pre>Finished parsing file https://static.turi.com/datasets/regression/Housing.csv</pre>"
      ],
      "text/plain": [
       "Finished parsing file https://static.turi.com/datasets/regression/Housing.csv"
      ]
     },
     "metadata": {},
     "output_type": "execute_result"
    },
    {
     "data": {
      "text/html": [
       "<pre>Parsing completed. Parsed 546 lines in 0.01321 secs.</pre>"
      ],
      "text/plain": [
       "Parsing completed. Parsed 546 lines in 0.01321 secs."
      ]
     },
     "metadata": {},
     "output_type": "execute_result"
    },
    {
     "name": "stdout",
     "output_type": "stream",
     "text": [
      "PROGRESS: Creating a validation set from 5 percent of training data. This may take a while.\n",
      "          You can set ``validation_set=None`` to disable validation tracking.\n",
      "\n"
     ]
    },
    {
     "data": {
      "text/html": [
       "<pre>Linear regression:</pre>"
      ],
      "text/plain": [
       "Linear regression:"
      ]
     },
     "metadata": {},
     "output_type": "execute_result"
    },
    {
     "data": {
      "text/html": [
       "<pre>--------------------------------------------------------</pre>"
      ],
      "text/plain": [
       "--------------------------------------------------------"
      ]
     },
     "metadata": {},
     "output_type": "execute_result"
    },
    {
     "data": {
      "text/html": [
       "<pre>Number of examples          : 521</pre>"
      ],
      "text/plain": [
       "Number of examples          : 521"
      ]
     },
     "metadata": {},
     "output_type": "execute_result"
    },
    {
     "data": {
      "text/html": [
       "<pre>Number of features          : 12</pre>"
      ],
      "text/plain": [
       "Number of features          : 12"
      ]
     },
     "metadata": {},
     "output_type": "execute_result"
    },
    {
     "data": {
      "text/html": [
       "<pre>Number of unpacked features : 12</pre>"
      ],
      "text/plain": [
       "Number of unpacked features : 12"
      ]
     },
     "metadata": {},
     "output_type": "execute_result"
    },
    {
     "data": {
      "text/html": [
       "<pre>Number of coefficients    : 13</pre>"
      ],
      "text/plain": [
       "Number of coefficients    : 13"
      ]
     },
     "metadata": {},
     "output_type": "execute_result"
    },
    {
     "data": {
      "text/html": [
       "<pre>Starting Newton Method</pre>"
      ],
      "text/plain": [
       "Starting Newton Method"
      ]
     },
     "metadata": {},
     "output_type": "execute_result"
    },
    {
     "data": {
      "text/html": [
       "<pre>--------------------------------------------------------</pre>"
      ],
      "text/plain": [
       "--------------------------------------------------------"
      ]
     },
     "metadata": {},
     "output_type": "execute_result"
    },
    {
     "data": {
      "text/html": [
       "<pre>+-----------+----------+--------------+--------------------+----------------------+---------------+-----------------+</pre>"
      ],
      "text/plain": [
       "+-----------+----------+--------------+--------------------+----------------------+---------------+-----------------+"
      ]
     },
     "metadata": {},
     "output_type": "execute_result"
    },
    {
     "data": {
      "text/html": [
       "<pre>| Iteration | Passes   | Elapsed Time | Training-max_error | Validation-max_error | Training-rmse | Validation-rmse |</pre>"
      ],
      "text/plain": [
       "| Iteration | Passes   | Elapsed Time | Training-max_error | Validation-max_error | Training-rmse | Validation-rmse |"
      ]
     },
     "metadata": {},
     "output_type": "execute_result"
    },
    {
     "data": {
      "text/html": [
       "<pre>+-----------+----------+--------------+--------------------+----------------------+---------------+-----------------+</pre>"
      ],
      "text/plain": [
       "+-----------+----------+--------------+--------------------+----------------------+---------------+-----------------+"
      ]
     },
     "metadata": {},
     "output_type": "execute_result"
    },
    {
     "data": {
      "text/html": [
       "<pre>| 1         | 2        | 1.010513     | 97111.369442       | 36679.483548         | 15903.769470  | 13730.136503    |</pre>"
      ],
      "text/plain": [
       "| 1         | 2        | 1.010513     | 97111.369442       | 36679.483548         | 15903.769470  | 13730.136503    |"
      ]
     },
     "metadata": {},
     "output_type": "execute_result"
    },
    {
     "name": "stdout",
     "output_type": "stream",
     "text": [
      "Class                          : LinearRegression\n",
      "\n",
      "Schema\n",
      "------\n",
      "Number of coefficients         : 13\n",
      "Number of examples             : 521\n",
      "Number of feature columns      : 12\n",
      "Number of unpacked features    : 12\n",
      "\n",
      "Hyperparameters\n",
      "---------------\n",
      "L1 penalty                     : 0.0\n",
      "L2 penalty                     : 0.01\n",
      "\n",
      "Training Summary\n",
      "----------------\n",
      "Solver                         : newton\n",
      "Solver iterations              : 1\n",
      "Solver status                  : SUCCESS: Optimal solution found.\n",
      "Training time (sec)            : 1.0122\n",
      "\n",
      "Settings\n",
      "--------\n",
      "Residual sum of squares        : 1.31776469225e+11\n",
      "Training RMSE                  : 15903.7695\n",
      "\n",
      "Highest Positive Coefficients\n",
      "-----------------------------\n",
      "bathrms                        : 15276.2492\n",
      "gashw[yes]                     : 11935.2137\n",
      "airco[yes]                     : 11842.4618\n",
      "(intercept)                    : 7817.3242\n",
      "prefarea[yes]                  : 7418.0224\n",
      "\n",
      "Lowest Negative Coefficients\n",
      "----------------------------\n",
      "driveway[no]                   : -6427.3088\n",
      "fullbase[no]                   : -5321.8067\n",
      "\n"
     ]
    },
    {
     "data": {
      "text/html": [
       "<pre>+-----------+----------+--------------+--------------------+----------------------+---------------+-----------------+</pre>"
      ],
      "text/plain": [
       "+-----------+----------+--------------+--------------------+----------------------+---------------+-----------------+"
      ]
     },
     "metadata": {},
     "output_type": "execute_result"
    },
    {
     "data": {
      "text/html": [
       "<pre>SUCCESS: Optimal solution found.</pre>"
      ],
      "text/plain": [
       "SUCCESS: Optimal solution found."
      ]
     },
     "metadata": {},
     "output_type": "execute_result"
    },
    {
     "data": {
      "text/html": [
       "<pre></pre>"
      ],
      "text/plain": []
     },
     "metadata": {},
     "output_type": "execute_result"
    }
   ],
   "source": [
    "url = 'https://static.turi.com/datasets/regression/Housing.csv'\n",
    "x = gl.SFrame.read_csv(url)\n",
    "m = gl.linear_regression.create(x, target='price')\n",
    "print(m)"
   ]
  }
 ],
 "metadata": {
  "kernelspec": {
   "display_name": "Python 2",
   "language": "python",
   "name": "python2"
  },
  "language_info": {
   "codemirror_mode": {
    "name": "ipython",
    "version": 2
   },
   "file_extension": ".py",
   "mimetype": "text/x-python",
   "name": "python",
   "nbconvert_exporter": "python",
   "pygments_lexer": "ipython2",
   "version": "2.7.13"
  }
 },
 "nbformat": 4,
 "nbformat_minor": 0
}
