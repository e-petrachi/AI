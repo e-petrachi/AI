{
 "cells": [
  {
   "cell_type": "markdown",
   "metadata": {},
   "source": [
    "# Logistic Regression_2\n",
    "\n",
    "\n",
    "    \n",
    "## Import GraphLab Create\n",
    "\n"
   ]
  },
  {
   "cell_type": "code",
   "execution_count": 1,
   "metadata": {
    "collapsed": false
   },
   "outputs": [],
   "source": [
    "import graphlab"
   ]
  },
  {
   "cell_type": "markdown",
   "metadata": {},
   "source": [
    "## Carica il dataset delle review"
   ]
  },
  {
   "cell_type": "code",
   "execution_count": 6,
   "metadata": {
    "collapsed": false
   },
   "outputs": [
    {
     "data": {
      "text/html": [
       "<pre>Unable to parse line \"95303,B00401OZ1U,ATO7WKMVJD6XQ,\"Curcio \"\"\\\"\"\",0,0,5,1335398400,Metromint Water,Wonderful tasting water.  For one that doesn't like to drink soda's or juices because of the high sugar content this product is a great addition to the healthy drinking.  Also p...\"</pre>"
      ],
      "text/plain": [
       "Unable to parse line \"95303,B00401OZ1U,ATO7WKMVJD6XQ,\"Curcio \"\"\\\"\"\",0,0,5,1335398400,Metromint Water,Wonderful tasting water.  For one that doesn't like to drink soda's or juices because of the high sugar content this product is a great addition to the healthy drinking.  Also p...\""
      ]
     },
     "metadata": {},
     "output_type": "execute_result"
    },
    {
     "data": {
      "text/html": [
       "<pre>1 lines failed to parse correctly</pre>"
      ],
      "text/plain": [
       "1 lines failed to parse correctly"
      ]
     },
     "metadata": {},
     "output_type": "execute_result"
    },
    {
     "data": {
      "text/html": [
       "<pre>Finished parsing file /Users/matteoamadei/Desktop/classification/Reviews.csv</pre>"
      ],
      "text/plain": [
       "Finished parsing file /Users/matteoamadei/Desktop/classification/Reviews.csv"
      ]
     },
     "metadata": {},
     "output_type": "execute_result"
    },
    {
     "data": {
      "text/html": [
       "<pre>Parsing completed. Parsed 100 lines in 1.03788 secs.</pre>"
      ],
      "text/plain": [
       "Parsing completed. Parsed 100 lines in 1.03788 secs."
      ]
     },
     "metadata": {},
     "output_type": "execute_result"
    },
    {
     "name": "stdout",
     "output_type": "stream",
     "text": [
      "------------------------------------------------------\n",
      "Inferred types from first 100 line(s) of file as \n",
      "column_type_hints=[int,str,str,str,int,int,int,int,str,str]\n",
      "If parsing fails due to incorrect types, you can correct\n",
      "the inferred type list above and pass it to read_csv in\n",
      "the column_type_hints argument\n",
      "------------------------------------------------------\n"
     ]
    },
    {
     "data": {
      "text/html": [
       "<pre>Unable to parse line \"95303,B00401OZ1U,ATO7WKMVJD6XQ,\"Curcio \"\"\\\"\"\",0,0,5,1335398400,Metromint Water,Wonderful tasting water.  For one that doesn't like to drink soda's or juices because of the high sugar content this product is a great addition to the healthy drinking.  Also p...\"</pre>"
      ],
      "text/plain": [
       "Unable to parse line \"95303,B00401OZ1U,ATO7WKMVJD6XQ,\"Curcio \"\"\\\"\"\",0,0,5,1335398400,Metromint Water,Wonderful tasting water.  For one that doesn't like to drink soda's or juices because of the high sugar content this product is a great addition to the healthy drinking.  Also p...\""
      ]
     },
     "metadata": {},
     "output_type": "execute_result"
    },
    {
     "data": {
      "text/html": [
       "<pre>Read 98051 lines. Lines per second: 66105.6</pre>"
      ],
      "text/plain": [
       "Read 98051 lines. Lines per second: 66105.6"
      ]
     },
     "metadata": {},
     "output_type": "execute_result"
    },
    {
     "data": {
      "text/html": [
       "<pre>Unable to parse line \"514285,B0081X097M,ATO7WKMVJD6XQ,\"Curcio \"\"\\\"\"\",0,0,5,1335398400,Metromint Water,Wonderful tasting water.  For one that doesn't like to drink soda's or juices because of the high sugar content this product is a great addition to the healthy drinking.  Also ...\"</pre>"
      ],
      "text/plain": [
       "Unable to parse line \"514285,B0081X097M,ATO7WKMVJD6XQ,\"Curcio \"\"\\\"\"\",0,0,5,1335398400,Metromint Water,Wonderful tasting water.  For one that doesn't like to drink soda's or juices because of the high sugar content this product is a great addition to the healthy drinking.  Also ...\""
      ]
     },
     "metadata": {},
     "output_type": "execute_result"
    },
    {
     "data": {
      "text/html": [
       "<pre>2 lines failed to parse correctly</pre>"
      ],
      "text/plain": [
       "2 lines failed to parse correctly"
      ]
     },
     "metadata": {},
     "output_type": "execute_result"
    },
    {
     "data": {
      "text/html": [
       "<pre>Finished parsing file /Users/matteoamadei/Desktop/classification/Reviews.csv</pre>"
      ],
      "text/plain": [
       "Finished parsing file /Users/matteoamadei/Desktop/classification/Reviews.csv"
      ]
     },
     "metadata": {},
     "output_type": "execute_result"
    },
    {
     "data": {
      "text/html": [
       "<pre>Parsing completed. Parsed 568452 lines in 5.5095 secs.</pre>"
      ],
      "text/plain": [
       "Parsing completed. Parsed 568452 lines in 5.5095 secs."
      ]
     },
     "metadata": {},
     "output_type": "execute_result"
    }
   ],
   "source": [
    "# Scommentare la riga sotto per caricare il dataset\n",
    "#\n",
    "#products = graphlab.SFrame.read_csv('data/Reviews.csv')"
   ]
  },
  {
   "cell_type": "code",
   "execution_count": 3,
   "metadata": {
    "collapsed": false
   },
   "outputs": [],
   "source": [
    "def remove_punctuation(text):\n",
    "    import string\n",
    "    return text.translate(None, string.punctuation) \n",
    "\n"
   ]
  },
  {
   "cell_type": "code",
   "execution_count": 4,
   "metadata": {
    "collapsed": false
   },
   "outputs": [
    {
     "data": {
      "text/plain": [
       "525812"
      ]
     },
     "execution_count": 4,
     "metadata": {},
     "output_type": "execute_result"
    }
   ],
   "source": [
    "products = products[products['Score'] != 3]\n",
    "len(products)"
   ]
  },
  {
   "cell_type": "code",
   "execution_count": null,
   "metadata": {
    "collapsed": false
   },
   "outputs": [],
   "source": [
    "products['sentiment'] = products['Score'].apply(lambda rating : +1 if rating > 3 else -1)\n",
    "products"
   ]
  },
  {
   "cell_type": "code",
   "execution_count": 9,
   "metadata": {
    "collapsed": false
   },
   "outputs": [
    {
     "data": {
      "text/plain": [
       "dtype: int\n",
       "Rows: 525812\n",
       "[1, -1, 1, -1, 1, 1, 1, 1, 1, 1, 1, 1, -1, 1, 1, 1, -1, 1, 1, 1, 1, 1, 1, 1, 1, 1, -1, 1, 1, 1, 1, 1, 1, 1, 1, 1, 1, 1, 1, 1, 1, 1, 1, 1, 1, 1, 1, -1, 1, 1, 1, 1, 1, 1, 1, 1, 1, -1, 1, 1, 1, 1, -1, 1, 1, 1, 1, -1, -1, -1, 1, 1, 1, 1, 1, 1, 1, 1, 1, 1, 1, 1, 1, 1, 1, 1, 1, 1, 1, 1, -1, 1, 1, 1, 1, 1, 1, 1, 1, 1, ... ]"
      ]
     },
     "execution_count": 9,
     "metadata": {},
     "output_type": "execute_result"
    }
   ],
   "source": [
    "products['sentiment']"
   ]
  },
  {
   "cell_type": "code",
   "execution_count": 116,
   "metadata": {
    "collapsed": false
   },
   "outputs": [
    {
     "data": {
      "text/plain": [
       "dtype: str\n",
       "Rows: 10\n",
       "['Good Quality Dog Food', 'Not as Advertised', '\"Delight\" says it all', 'Cough Medicine', 'Great taffy', 'Nice Taffy', 'Great!  Just as good as the expensive brands!', 'Wonderful, tasty taffy', 'Yay Barley', 'Healthy Dog Food']"
      ]
     },
     "execution_count": 116,
     "metadata": {},
     "output_type": "execute_result"
    }
   ],
   "source": [
    "products.head(10)['Summary']"
   ]
  },
  {
   "cell_type": "code",
   "execution_count": 7,
   "metadata": {
    "collapsed": false
   },
   "outputs": [
    {
     "name": "stdout",
     "output_type": "stream",
     "text": [
      "# of positive reviews = 443775\n",
      "# of negative reviews = 82037\n"
     ]
    }
   ],
   "source": [
    "print '# of positive reviews =', len(products[products['sentiment']==1])\n",
    "print '# of negative reviews =', len(products[products['sentiment']==-1])"
   ]
  },
  {
   "cell_type": "markdown",
   "metadata": {},
   "source": [
    "Facciamo due semplici trasformazioni sui dati\n",
    "1. Rimuoviamo la punteggiatura\n",
    "2. Facciamo **word count**\n",
    "\n"
   ]
  },
  {
   "cell_type": "code",
   "execution_count": 8,
   "metadata": {
    "collapsed": false
   },
   "outputs": [],
   "source": [
    "important_words =[\"food\", \"one\", \"great\", \"love\", \"use\", \"like\",\n",
    "                  \"seat\", \"get\", \"also\", \"really\", \"time\", \"bought\",\n",
    "                  \"product\", \"good\", \"daughter\", \"much\", \"dog\", \"cat\", \"months\", \"put\",\n",
    "                  \"still\", \"back\", \"used\", \"recommend\", \"first\", \"nice\", \"bag\",\n",
    "                  \"two\", \"using\", \"got\", \"fit\", \"around\", \"diaper\", \"enough\", \"month\", \"price\", \n",
    "                  \"go\", \"could\", \"soft\", \"since\", \"buy\", \"room\", \"works\", \"made\", \"child\", \"keep\",\n",
    "                  \"size\", \"need\", \"year\", \"big\", \"make\", \"take\", \"easily\", \"think\", \"crib\",\n",
    "                  \"clean\", \"way\", \"quality\", \"thing\", \"better\", \"without\", \"set\", \"new\", \"every\", \n",
    "                  \"cute\", \"best\", \"bottles\", \"work\", \"purchased\", \"right\", \"lot\", \"side\", \"happy\",\n",
    "                  \"comfortable\", \"toy\", \"able\", \"kids\", \"bit\", \"night\", \"long\", \"fits\", \"see\", \"us\",\n",
    "                  \"another\", \"play\", \"day\", \"money\", \"monitor\", \"tried\", \"thought\", \"never\", \n",
    "                  \"item\",\n",
    "                  \"hard\", \"plastic\", \"however\", \n",
    "                  \"reviews\", \"something\", \"going\", \"pump\",\n",
    "                  \"bottle\", \"cup\", \"return\", \"amazon\",\n",
    "                  \"different\", \"top\", \"want\", \"problem\",\n",
    "                  \"know\", \"water\", \"try\", \"received\", \"sure\", \n",
    "                  \"times\", \"chair\", \"find\", \"hold\", \"gate\", \"open\", \n",
    "                  \"bottom\", \"away\", \"actually\", \"cheap\", \"worked\", \"getting\",\n",
    "                  \"ordered\", \"came\", \"milk\", \"bad\", \"part\", \"worth\", \"found\", \n",
    "                  \"cover\", \"many\", \"design\", \"looking\", \"weeks\", \"say\", \"wanted\", \n",
    "                  \"look\", \"place\", \"purchase\", \"looks\", \"second\", \"piece\", \"box\", \n",
    "                  \"pretty\", \"trying\", \"difficult\", \"together\", \"though\", \"give\", \n",
    "                  \"started\", \"anything\", \"last\", \"company\", \"come\", \"returned\", \n",
    "                  \"maybe\", \"took\", \"broke\", \"makes\", \"stay\", \"instead\", \"idea\", \n",
    "                  \"head\", \"said\", \"went\", \"working\", \"high\", \"unit\", \"seems\",\n",
    "                   'easy', 'old', 'little', 'perfect', 'loves', \n",
    "                  'less', 'even', 'waste','disappointed','would','disgusting',\n",
    "                  'yummy','cool','acid','beautiful','baked','chocolate','homemade', 'low-fat',\n",
    "                  'nutty','pickled','plain','dry',\n",
    "'delicious','delectable','delightful','fantastic','flavored','flavorless','tasteful',\n",
    "                  'tasteless’,’tasty','tender','smelly','smells','rancid','small',\n",
    "                  'fried','insipid','low','well']"
   ]
  },
  {
   "cell_type": "code",
   "execution_count": 9,
   "metadata": {
    "collapsed": true
   },
   "outputs": [],
   "source": [
    "products['review_clean'] = products['Text'].apply(remove_punctuation)"
   ]
  },
  {
   "cell_type": "code",
   "execution_count": 73,
   "metadata": {
    "collapsed": false
   },
   "outputs": [
    {
     "data": {
      "text/plain": [
       "211"
      ]
     },
     "execution_count": 73,
     "metadata": {},
     "output_type": "execute_result"
    }
   ],
   "source": [
    "len(important_words)"
   ]
  },
  {
   "cell_type": "code",
   "execution_count": 10,
   "metadata": {
    "collapsed": false
   },
   "outputs": [],
   "source": [
    "for word in important_words:\n",
    "    products[word] = products['review_clean'].apply(lambda s : s.split().count(word))"
   ]
  },
  {
   "cell_type": "markdown",
   "metadata": {
    "collapsed": false
   },
   "source": [
    "Bilancio i due insiemi in modo da avere lo stesso numero di esempi positivi e negativi (ma potrei\n",
    "considerare anche il dataset di partenza"
   ]
  },
  {
   "cell_type": "code",
   "execution_count": 51,
   "metadata": {
    "collapsed": false
   },
   "outputs": [],
   "source": [
    "products_neg = products[products['sentiment'] == -1]\n",
    "products_pos = products[products['sentiment'] == 1]\n"
   ]
  },
  {
   "cell_type": "code",
   "execution_count": 49,
   "metadata": {
    "collapsed": false
   },
   "outputs": [],
   "source": [
    "prod_neg = products_neg[0:15000]"
   ]
  },
  {
   "cell_type": "code",
   "execution_count": 52,
   "metadata": {
    "collapsed": false
   },
   "outputs": [],
   "source": [
    "prod_pos = products_pos[0:15000]"
   ]
  },
  {
   "cell_type": "markdown",
   "metadata": {
    "collapsed": true
   },
   "source": [
    "Unisco i 15000 esempi positivi con quelli negativi"
   ]
  },
  {
   "cell_type": "code",
   "execution_count": 54,
   "metadata": {
    "collapsed": false
   },
   "outputs": [],
   "source": [
    "prod_red = prod_neg.append(prod_pos)"
   ]
  },
  {
   "cell_type": "markdown",
   "metadata": {},
   "source": [
    "## Convertire SFrame in Numpy Array\n",
    "\n",
    "Come visto per la regressione Numpy è una libreria molto potente per fare operazioni sulle matrici. \n",
    "Convertiamo i nostri dati in matrici e implementiamo i nostri algoritmi con le matrici. "
   ]
  },
  {
   "cell_type": "code",
   "execution_count": 12,
   "metadata": {
    "collapsed": true
   },
   "outputs": [],
   "source": [
    "import numpy as np"
   ]
  },
  {
   "cell_type": "markdown",
   "metadata": {},
   "source": [
    "Get Numpy prende le colonne da un Sframe e le converte in un array Numpy. \n",
    "Sono restituiti due array:\n",
    "Uno che rappresenta le feature e un altro che rappresenta le etichette. Anche questa volta, come nel caso della regressione, avremo bisogno di una colonna addizionale intercept per tenere in considerazione l'intercetta. "
   ]
  },
  {
   "cell_type": "code",
   "execution_count": 13,
   "metadata": {
    "collapsed": true
   },
   "outputs": [],
   "source": [
    "def get_numpy_data(data_sframe, features, label):\n",
    "    data_sframe['intercept'] = 1\n",
    "    features = ['intercept'] + features\n",
    "    features_sframe = data_sframe[features]\n",
    "    feature_matrix = features_sframe.to_numpy()\n",
    "    label_sarray = data_sframe[label]\n",
    "    label_array = label_sarray.to_numpy()\n",
    "    return(feature_matrix, label_array)"
   ]
  },
  {
   "cell_type": "code",
   "execution_count": 55,
   "metadata": {
    "collapsed": false
   },
   "outputs": [],
   "source": [
    "# Convertiamo in numpy array prod red\n",
    "feature_matrix, sentiment = get_numpy_data(prod_red, important_words, 'sentiment') "
   ]
  },
  {
   "cell_type": "code",
   "execution_count": 56,
   "metadata": {
    "collapsed": false
   },
   "outputs": [
    {
     "data": {
      "text/plain": [
       "(30000, 212)"
      ]
     },
     "execution_count": 56,
     "metadata": {},
     "output_type": "execute_result"
    }
   ],
   "source": [
    "feature_matrix.shape"
   ]
  },
  {
   "cell_type": "code",
   "execution_count": 22,
   "metadata": {
    "collapsed": false
   },
   "outputs": [
    {
     "data": {
      "text/plain": [
       "30000"
      ]
     },
     "execution_count": 22,
     "metadata": {},
     "output_type": "execute_result"
    }
   ],
   "source": [
    "len(sentiment)"
   ]
  },
  {
   "cell_type": "markdown",
   "metadata": {},
   "source": [
    "## Calcolare la probabilità condizionata"
   ]
  },
  {
   "cell_type": "code",
   "execution_count": 17,
   "metadata": {
    "collapsed": false
   },
   "outputs": [],
   "source": [
    "'''\n",
    "produce stima probabilistica per P(y_i = +1 | x_i, w).\n",
    "nel range tra 0 e 1\n",
    "'''\n",
    "def predict_probability(feature_matrix, coefficients):\n",
    "    # Fai il prodotto di feature_matrix e coefficienti\n",
    "    scores = np.dot(feature_matrix, coefficients)\n",
    "    \n",
    "    # Calcola P(y_i = +1 | x_i, w) usando la link function\n",
    "    predictions = map(lambda x: 1 / (1 + np.exp(- x)), scores)\n",
    "    \n",
    "    # ritorna predictions\n",
    "    return predictions"
   ]
  },
  {
   "cell_type": "markdown",
   "metadata": {},
   "source": [
    " Come lavora con l'algebra matriciale\n",
    "\n",
    "Dato che i word count sono memorizzati come colonne in **feature_matrix**,ogni i-esima riga della matrice corrisponde al feature vector $\\phi(\\mathbf{x}_i)$, relativa alla review i:\n",
    "$$\n",
    "[\\text{feature_matrix}] =\n",
    "\\left[\n",
    "\\begin{array}{c}\n",
    "\\phi(\\mathbf{x}_1)^T \\\\\n",
    "\\phi(\\mathbf{x}_2)^T \\\\\n",
    "\\vdots \\\\\n",
    "\\phi(\\mathbf{x}_N)^T\n",
    "\\end{array}\n",
    "\\right] =\n",
    "\\left[\n",
    "\\begin{array}{cccc}\n",
    "\\phi_0(\\mathbf{x}_1) & \\phi_1(\\mathbf{x}_1) & \\cdots & \\phi_D(\\mathbf{x}_1) \\\\\n",
    "\\phi_0(\\mathbf{x}_2) & \\phi_1(\\mathbf{x}_2) & \\cdots & h\\phi_D(\\mathbf{x}_2) \\\\\n",
    "\\vdots & \\vdots & \\ddots & \\vdots \\\\\n",
    "\\phi_0(\\mathbf{x}_N) & \\phi_1(\\mathbf{x}_N) & \\cdots & \\phi_D(\\mathbf{x}_N)\n",
    "\\end{array}\n",
    "\\right]\n",
    "$$\n",
    "\n",
    "\n",
    "$$\n",
    "[\\text{score}] =\n",
    "[\\text{feature_matrix}]\\mathbf{w} =\n",
    "\\left[\n",
    "\\begin{array}{c}\n",
    "\\phi(\\mathbf{x}_1)^T \\\\\n",
    "\\phi(\\mathbf{x}_2)^T \\\\\n",
    "\\vdots \\\\\n",
    "\\phi(\\mathbf{x}_N)^T\n",
    "\\end{array}\n",
    "\\right]\n",
    "\\mathbf{w}\n",
    "= \\left[\n",
    "\\begin{array}{c}\n",
    "\\phi(\\mathbf{x}_1)^T\\mathbf{w} \\\\\n",
    "\\phi(\\mathbf{x}_2)^T\\mathbf{w} \\\\\n",
    "\\vdots \\\\\n",
    "\\phi(\\mathbf{x}_N)^T\\mathbf{w}\n",
    "\\end{array}\n",
    "\\right]\n",
    "= \\left[\n",
    "\\begin{array}{c}\n",
    "\\mathbf{w}^T h(\\mathbf{x}_1) \\\\\n",
    "\\mathbf{w}^T h(\\mathbf{x}_2) \\\\\n",
    "\\vdots \\\\\n",
    "\\mathbf{w}^T h(\\mathbf{x}_N)\n",
    "\\end{array}\n",
    "\\right]\n",
    "$$"
   ]
  },
  {
   "cell_type": "markdown",
   "metadata": {},
   "source": [
    "**Checkpoint**\n",
    "Facciamo alcuni esempi per comprendere se \n",
    " `predict_probability` è implementata correttamente"
   ]
  },
  {
   "cell_type": "code",
   "execution_count": 77,
   "metadata": {
    "collapsed": false
   },
   "outputs": [
    {
     "name": "stdout",
     "output_type": "stream",
     "text": [
      "I seguenti output devono corrispondere \n",
      "------------------------------------------------\n",
      "predizione corretta           = [ 0.98201379  0.26894142]\n",
      "output di predict_probability = [0.98201379003790845, 0.2689414213699951]\n"
     ]
    }
   ],
   "source": [
    "dummy_feature_matrix = np.array([[1.,2.,3.], [1.,-1.,-1]])\n",
    "dummy_coefficients = np.array([1., 3., -1.])\n",
    "\n",
    "correct_scores      = np.array( [ 1.*1. + 2.*3. + 3.*(-1.),          1.*1. + (-1.)*3. + (-1.)*(-1.) ] )\n",
    "correct_predictions = np.array( [ 1./(1+np.exp(-correct_scores[0])), 1./(1+np.exp(-correct_scores[1])) ] )\n",
    "\n",
    "print 'I seguenti output devono corrispondere '\n",
    "print '------------------------------------------------'\n",
    "print 'predizione corretta           =', correct_predictions\n",
    "print 'output di predict_probability =', predict_probability(dummy_feature_matrix, dummy_coefficients)"
   ]
  },
  {
   "cell_type": "markdown",
   "metadata": {},
   "source": [
    "## Calcolo la derivata di  log likelihood rispetto a un singolo coefficiente\n",
    "\n",
    "$$\n",
    "\\frac{\\partial\\ell}{\\partial w_j} = \\sum_{i=1}^N \\phi_j(\\mathbf{x}_i)\\left(\\mathbf{1}[y_i = +1] - P(y_i = +1 | \\mathbf{x}_i, \\mathbf{w})\\right)\n",
    "$$\n",
    "\n",
    "Scriviamo ora la funzione che calcola la derivata di log likelihood rispetto a un singolo coefficente  $w_j$. La funzione accetta due argomenti:\n",
    "* `errors` un vettore contenente $\\mathbf{1}[y_i = +1] - P(y_i = +1 | \\mathbf{x}_i, \\mathbf{w})$ per tutte le i $i$.\n",
    "* `feature` un vettore contenente $\\phi_j(\\mathbf{x}_i)$  per tutte le $i$. \n"
   ]
  },
  {
   "cell_type": "code",
   "execution_count": 18,
   "metadata": {
    "collapsed": true
   },
   "outputs": [],
   "source": [
    "def feature_derivative(errors, feature):     \n",
    "    #Calcola il prodotto errors * feature\n",
    "    derivative = np.dot(errors, feature)\n",
    "    \n",
    "    # ritorna la derivata \n",
    "    return derivative"
   ]
  },
  {
   "cell_type": "code",
   "execution_count": 19,
   "metadata": {
    "collapsed": false
   },
   "outputs": [],
   "source": [
    "def compute_log_likelihood(feature_matrix, sentiment, coefficients):\n",
    "    indicator = (sentiment==+1)\n",
    "    scores = np.dot(feature_matrix, coefficients)\n",
    "     \n",
    "    logexp = np.log(1. + np.exp(-scores))\n",
    "    print logexp\n",
    "    lp = np.sum((indicator-1)*scores - logexp)\n",
    "    return lp"
   ]
  },
  {
   "cell_type": "code",
   "execution_count": 118,
   "metadata": {
    "collapsed": false
   },
   "outputs": [
    {
     "name": "stdout",
     "output_type": "stream",
     "text": [
      "The following outputs must match \n",
      "------------------------------------------------\n",
      "correct_log_likelihood           = -5.33141161544\n",
      "output of compute_log_likelihood = [ 0.01814993  1.31326169]\n",
      "-5.33141161544\n"
     ]
    }
   ],
   "source": [
    "dummy_feature_matrix = np.array([[1.,2.,3.], [1.,-1.,-1]])\n",
    "dummy_coefficients = np.array([1., 3., -1.])\n",
    "dummy_sentiment = np.array([-1, 1])\n",
    "\n",
    "correct_indicators  = np.array( [ -1==+1,                                       1==+1 ] )\n",
    "correct_scores      = np.array( [ 1.*1. + 2.*3. + 3.*(-1.),                     1.*1. + (-1.)*3. + (-1.)*(-1.) ] )\n",
    "correct_first_term  = np.array( [ (correct_indicators[0]-1)*correct_scores[0],  (correct_indicators[1]-1)*correct_scores[1] ] )\n",
    "correct_second_term = np.array( [ np.log(1. + np.exp(-correct_scores[0])),      np.log(1. + np.exp(-correct_scores[1])) ] )\n",
    "\n",
    "correct_ll          =      sum( [ correct_first_term[0]-correct_second_term[0], correct_first_term[1]-correct_second_term[1] ] ) \n",
    "\n",
    "print '------------------------------------------------'\n",
    "print 'correct_log_likelihood           =', correct_ll\n",
    "print 'output of compute_log_likelihood =', compute_log_likelihood(dummy_feature_matrix, dummy_sentiment, dummy_coefficients)"
   ]
  },
  {
   "cell_type": "markdown",
   "metadata": {},
   "source": [
    "## Ascesa del gradiente"
   ]
  },
  {
   "cell_type": "code",
   "execution_count": 20,
   "metadata": {
    "collapsed": false
   },
   "outputs": [],
   "source": [
    "from math import sqrt\n",
    "\n",
    "def logistic_regression(feature_matrix, sentiment, initial_coefficients, step_size, tolerance):\n",
    "    converged = False\n",
    "    coefficients = np.array(initial_coefficients) # assicurati che sia un numpy array\n",
    "    while not converged:\n",
    "        # Predici P(y_i = +1|x_i,w) usando la funzione predict_probability() \n",
    "        predictions = predict_probability(feature_matrix, coefficients)\n",
    "        \n",
    "        # Calcola il valore della indicator function per (y_i = +1)\n",
    "        indicator = (sentiment==+1)\n",
    "        gradient_ascent =0\n",
    "        # Calcola gli errori come indicator - predictions\n",
    "        errors = indicator - predictions\n",
    "        for j in xrange(len(coefficients)): # loop su ogni coefficiente (w0,w1...)\n",
    "            \n",
    "            # Ricorda che feature_matrix[:,j] è la colonna delle feature j\n",
    "            # Calcola la derivata\n",
    "            derivative = feature_derivative(errors, feature_matrix[:,j])\n",
    "            \n",
    "            #  aggiungi step size * derivata al coefficente corrente\n",
    "            coefficients[j] += step_size * derivative\n",
    "            \n",
    "            gradient_ascent += derivative ** 2\n",
    "        \n",
    "        gradient_magnitude = sqrt(gradient_ascent)\n",
    "        print gradient_magnitude\n",
    "        if gradient_magnitude < tolerance:\n",
    "            converged = True\n",
    "    return coefficients"
   ]
  },
  {
   "cell_type": "markdown",
   "metadata": {},
   "source": [
    "Ora eseguiamo il metodo logistic_regression"
   ]
  },
  {
   "cell_type": "code",
   "execution_count": 1,
   "metadata": {
    "collapsed": false
   },
   "outputs": [],
   "source": [
    "coefficients = logistic_regression(feature_matrix, \n",
    "                                   sentiment, \n",
    "                                   initial_coefficients=np.zeros(212),\n",
    "                                   step_size=7e-9, \n",
    "                                   tolerance =1000)"
   ]
  },
  {
   "cell_type": "markdown",
   "metadata": {},
   "source": [
    "## Predire i sentimenti "
   ]
  },
  {
   "cell_type": "markdown",
   "metadata": {},
   "source": [
    "La classe per un'osservazione $\\mathbf{x}$, come visto in precedenza, può essere calcolata a partire dai coefficienti  $\\mathbf{w}$ usando la seguente formula: \n",
    "$$\n",
    "\\hat{y}_i = \n",
    "\\left\\{\n",
    "\\begin{array}{ll}\n",
    "      +1 & \\mathbf{x}_i^T\\mathbf{w} > 0 \\\\\n",
    "      -1 & \\mathbf{x}_i^T\\mathbf{w} \\leq 0 \\\\\n",
    "\\end{array} \n",
    "\\right.\n",
    "$$\n",
    "\n",
    "Calcoleremo le predictions in due steps:\n",
    "* **Step 1**: Calcolo gli **scores** utilizzando **feature_matrix** e **coefficients**, attraverso il prodotto.\n",
    "* **Step 2**: Usando la formula definita in precedenza, calcola la prediction a partire dagli scores.\n",
    "\n"
   ]
  },
  {
   "cell_type": "code",
   "execution_count": 88,
   "metadata": {
    "collapsed": true
   },
   "outputs": [],
   "source": [
    "# Calcola gli scores come prodotto tra feature_matrix e coefficienti.\n",
    "scores = np.dot(feature_matrix, coefficients)\n",
    "prod_red[\"scores\"] = scores"
   ]
  },
  {
   "cell_type": "markdown",
   "metadata": {},
   "source": [
    " **Step 2** class_prediction"
   ]
  },
  {
   "cell_type": "code",
   "execution_count": null,
   "metadata": {
    "collapsed": false
   },
   "outputs": [],
   "source": [
    "y_hat = scores > 0\n"
   ]
  },
  {
   "cell_type": "code",
   "execution_count": 110,
   "metadata": {
    "collapsed": false
   },
   "outputs": [],
   "source": [
    "prod_red['sign']= y_hat"
   ]
  },
  {
   "cell_type": "code",
   "execution_count": 111,
   "metadata": {
    "collapsed": false
   },
   "outputs": [],
   "source": [
    "prod_red['sent_val'] = prod_red['sign'].apply(lambda rating : 1 if rating ==True else -1)\n",
    "\n"
   ]
  },
  {
   "cell_type": "code",
   "execution_count": 114,
   "metadata": {
    "collapsed": false
   },
   "outputs": [],
   "source": [
    "res =prod_red['sent_val']"
   ]
  },
  {
   "cell_type": "code",
   "execution_count": 123,
   "metadata": {
    "collapsed": false,
    "scrolled": true
   },
   "outputs": [
    {
     "data": {
      "text/plain": [
       "20434"
      ]
     },
     "execution_count": 123,
     "metadata": {},
     "output_type": "execute_result"
    }
   ],
   "source": [
    "corrette = (sentiment == res).sum() \n",
    "corrette"
   ]
  },
  {
   "cell_type": "markdown",
   "metadata": {},
   "source": [
    "## Calcolo dell'accuracy \n",
    "\n",
    "\n",
    "$$\n",
    "\\mbox{accuracy} = \\frac{\\mbox{# correctly classified data points}}{\\mbox{# total data points}}\n",
    "$$\n",
    "\n"
   ]
  },
  {
   "cell_type": "code",
   "execution_count": 122,
   "metadata": {
    "collapsed": false
   },
   "outputs": [
    {
     "name": "stdout",
     "output_type": "stream",
     "text": [
      "-----------------------------------------------------\n",
      "# Reviews    classificate correttamente = 20434\n",
      "# Reviews non classificate correttamente  = 9566\n",
      "# Reviews totali                = 30000\n",
      "-----------------------------------------------------\n",
      "Accuracy = 0.681\n"
     ]
    }
   ],
   "source": [
    "corrette = (sentiment == res).sum() \n",
    "accuracy = float(corrette) / len(prod_red) \n",
    "print \"-----------------------------------------------------\"\n",
    "print '# Reviews    classificate correttamente =',corrette\n",
    "print '# Reviews non classificate correttamente  =', len(prod_red)-corrette\n",
    "print '# Reviews totali                =', len(prod_red)\n",
    "print \"-----------------------------------------------------\"\n",
    "print 'Accuracy = %.3f' % accuracy"
   ]
  }
 ],
 "metadata": {
  "kernelspec": {
   "display_name": "Python 2",
   "language": "python",
   "name": "python2"
  },
  "language_info": {
   "codemirror_mode": {
    "name": "ipython",
    "version": 2
   },
   "file_extension": ".py",
   "mimetype": "text/x-python",
   "name": "python",
   "nbconvert_exporter": "python",
   "pygments_lexer": "ipython2",
   "version": "2.7.13"
  }
 },
 "nbformat": 4,
 "nbformat_minor": 0
}
