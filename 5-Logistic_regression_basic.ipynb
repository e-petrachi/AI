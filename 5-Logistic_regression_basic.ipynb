{
 "cells": [
  {
   "cell_type": "markdown",
   "metadata": {},
   "source": [
    "# Predire il sentimento dalle review dei prodotti \n",
    "\n"
   ]
  },
  {
   "cell_type": "markdown",
   "metadata": {},
   "source": []
  },
  {
   "cell_type": "code",
   "execution_count": 1,
   "metadata": {
    "collapsed": false
   },
   "outputs": [],
   "source": [
    "from __future__ import division\n",
    "import graphlab\n",
    "import math\n",
    "import string"
   ]
  },
  {
   "cell_type": "markdown",
   "metadata": {},
   "source": [
    "# Data preperation\n",
    "\n"
   ]
  },
  {
   "cell_type": "code",
   "execution_count": 21,
   "metadata": {
    "collapsed": false
   },
   "outputs": [],
   "source": [
    "# Scommentare la riga sotto per caricare il dataset\n",
    "#\n",
    "#products = graphlab.SFrame.read_csv('data/Reviews.csv')"
   ]
  },
  {
   "cell_type": "markdown",
   "metadata": {},
   "source": [
    "Now, let us see a preview of what the dataset looks like."
   ]
  },
  {
   "cell_type": "code",
   "execution_count": 3,
   "metadata": {
    "collapsed": false,
    "scrolled": true
   },
   "outputs": [
    {
     "data": {
      "text/html": [
       "<div style=\"max-height:1000px;max-width:1500px;overflow:auto;\"><table frame=\"box\" rules=\"cols\">\n",
       "    <tr>\n",
       "        <th style=\"padding-left: 1em; padding-right: 1em; text-align: center\">Id</th>\n",
       "        <th style=\"padding-left: 1em; padding-right: 1em; text-align: center\">ProductId</th>\n",
       "        <th style=\"padding-left: 1em; padding-right: 1em; text-align: center\">UserId</th>\n",
       "        <th style=\"padding-left: 1em; padding-right: 1em; text-align: center\">ProfileName</th>\n",
       "        <th style=\"padding-left: 1em; padding-right: 1em; text-align: center\">HelpfulnessNumerator</th>\n",
       "        <th style=\"padding-left: 1em; padding-right: 1em; text-align: center\">HelpfulnessDenominator</th>\n",
       "        <th style=\"padding-left: 1em; padding-right: 1em; text-align: center\">Score</th>\n",
       "    </tr>\n",
       "    <tr>\n",
       "        <td style=\"padding-left: 1em; padding-right: 1em; text-align: center; vertical-align: top\">1</td>\n",
       "        <td style=\"padding-left: 1em; padding-right: 1em; text-align: center; vertical-align: top\">B001E4KFG0</td>\n",
       "        <td style=\"padding-left: 1em; padding-right: 1em; text-align: center; vertical-align: top\">A3SGXH7AUHU8GW</td>\n",
       "        <td style=\"padding-left: 1em; padding-right: 1em; text-align: center; vertical-align: top\">delmartian</td>\n",
       "        <td style=\"padding-left: 1em; padding-right: 1em; text-align: center; vertical-align: top\">1</td>\n",
       "        <td style=\"padding-left: 1em; padding-right: 1em; text-align: center; vertical-align: top\">1</td>\n",
       "        <td style=\"padding-left: 1em; padding-right: 1em; text-align: center; vertical-align: top\">5</td>\n",
       "    </tr>\n",
       "    <tr>\n",
       "        <td style=\"padding-left: 1em; padding-right: 1em; text-align: center; vertical-align: top\">2</td>\n",
       "        <td style=\"padding-left: 1em; padding-right: 1em; text-align: center; vertical-align: top\">B00813GRG4</td>\n",
       "        <td style=\"padding-left: 1em; padding-right: 1em; text-align: center; vertical-align: top\">A1D87F6ZCVE5NK</td>\n",
       "        <td style=\"padding-left: 1em; padding-right: 1em; text-align: center; vertical-align: top\">dll pa</td>\n",
       "        <td style=\"padding-left: 1em; padding-right: 1em; text-align: center; vertical-align: top\">0</td>\n",
       "        <td style=\"padding-left: 1em; padding-right: 1em; text-align: center; vertical-align: top\">0</td>\n",
       "        <td style=\"padding-left: 1em; padding-right: 1em; text-align: center; vertical-align: top\">1</td>\n",
       "    </tr>\n",
       "    <tr>\n",
       "        <td style=\"padding-left: 1em; padding-right: 1em; text-align: center; vertical-align: top\">3</td>\n",
       "        <td style=\"padding-left: 1em; padding-right: 1em; text-align: center; vertical-align: top\">B000LQOCH0</td>\n",
       "        <td style=\"padding-left: 1em; padding-right: 1em; text-align: center; vertical-align: top\">ABXLMWJIXXAIN</td>\n",
       "        <td style=\"padding-left: 1em; padding-right: 1em; text-align: center; vertical-align: top\">Natalia Corres \"Natalia<br>Corres\" ...</td>\n",
       "        <td style=\"padding-left: 1em; padding-right: 1em; text-align: center; vertical-align: top\">1</td>\n",
       "        <td style=\"padding-left: 1em; padding-right: 1em; text-align: center; vertical-align: top\">1</td>\n",
       "        <td style=\"padding-left: 1em; padding-right: 1em; text-align: center; vertical-align: top\">4</td>\n",
       "    </tr>\n",
       "    <tr>\n",
       "        <td style=\"padding-left: 1em; padding-right: 1em; text-align: center; vertical-align: top\">4</td>\n",
       "        <td style=\"padding-left: 1em; padding-right: 1em; text-align: center; vertical-align: top\">B000UA0QIQ</td>\n",
       "        <td style=\"padding-left: 1em; padding-right: 1em; text-align: center; vertical-align: top\">A395BORC6FGVXV</td>\n",
       "        <td style=\"padding-left: 1em; padding-right: 1em; text-align: center; vertical-align: top\">Karl</td>\n",
       "        <td style=\"padding-left: 1em; padding-right: 1em; text-align: center; vertical-align: top\">3</td>\n",
       "        <td style=\"padding-left: 1em; padding-right: 1em; text-align: center; vertical-align: top\">3</td>\n",
       "        <td style=\"padding-left: 1em; padding-right: 1em; text-align: center; vertical-align: top\">2</td>\n",
       "    </tr>\n",
       "    <tr>\n",
       "        <td style=\"padding-left: 1em; padding-right: 1em; text-align: center; vertical-align: top\">5</td>\n",
       "        <td style=\"padding-left: 1em; padding-right: 1em; text-align: center; vertical-align: top\">B006K2ZZ7K</td>\n",
       "        <td style=\"padding-left: 1em; padding-right: 1em; text-align: center; vertical-align: top\">A1UQRSCLF8GW1T</td>\n",
       "        <td style=\"padding-left: 1em; padding-right: 1em; text-align: center; vertical-align: top\">Michael D. Bigham \"M.<br>Wassir\" ...</td>\n",
       "        <td style=\"padding-left: 1em; padding-right: 1em; text-align: center; vertical-align: top\">0</td>\n",
       "        <td style=\"padding-left: 1em; padding-right: 1em; text-align: center; vertical-align: top\">0</td>\n",
       "        <td style=\"padding-left: 1em; padding-right: 1em; text-align: center; vertical-align: top\">5</td>\n",
       "    </tr>\n",
       "    <tr>\n",
       "        <td style=\"padding-left: 1em; padding-right: 1em; text-align: center; vertical-align: top\">6</td>\n",
       "        <td style=\"padding-left: 1em; padding-right: 1em; text-align: center; vertical-align: top\">B006K2ZZ7K</td>\n",
       "        <td style=\"padding-left: 1em; padding-right: 1em; text-align: center; vertical-align: top\">ADT0SRK1MGOEU</td>\n",
       "        <td style=\"padding-left: 1em; padding-right: 1em; text-align: center; vertical-align: top\">Twoapennything</td>\n",
       "        <td style=\"padding-left: 1em; padding-right: 1em; text-align: center; vertical-align: top\">0</td>\n",
       "        <td style=\"padding-left: 1em; padding-right: 1em; text-align: center; vertical-align: top\">0</td>\n",
       "        <td style=\"padding-left: 1em; padding-right: 1em; text-align: center; vertical-align: top\">4</td>\n",
       "    </tr>\n",
       "    <tr>\n",
       "        <td style=\"padding-left: 1em; padding-right: 1em; text-align: center; vertical-align: top\">7</td>\n",
       "        <td style=\"padding-left: 1em; padding-right: 1em; text-align: center; vertical-align: top\">B006K2ZZ7K</td>\n",
       "        <td style=\"padding-left: 1em; padding-right: 1em; text-align: center; vertical-align: top\">A1SP2KVKFXXRU1</td>\n",
       "        <td style=\"padding-left: 1em; padding-right: 1em; text-align: center; vertical-align: top\">David C. Sullivan</td>\n",
       "        <td style=\"padding-left: 1em; padding-right: 1em; text-align: center; vertical-align: top\">0</td>\n",
       "        <td style=\"padding-left: 1em; padding-right: 1em; text-align: center; vertical-align: top\">0</td>\n",
       "        <td style=\"padding-left: 1em; padding-right: 1em; text-align: center; vertical-align: top\">5</td>\n",
       "    </tr>\n",
       "    <tr>\n",
       "        <td style=\"padding-left: 1em; padding-right: 1em; text-align: center; vertical-align: top\">8</td>\n",
       "        <td style=\"padding-left: 1em; padding-right: 1em; text-align: center; vertical-align: top\">B006K2ZZ7K</td>\n",
       "        <td style=\"padding-left: 1em; padding-right: 1em; text-align: center; vertical-align: top\">A3JRGQVEQN31IQ</td>\n",
       "        <td style=\"padding-left: 1em; padding-right: 1em; text-align: center; vertical-align: top\">Pamela G. Williams</td>\n",
       "        <td style=\"padding-left: 1em; padding-right: 1em; text-align: center; vertical-align: top\">0</td>\n",
       "        <td style=\"padding-left: 1em; padding-right: 1em; text-align: center; vertical-align: top\">0</td>\n",
       "        <td style=\"padding-left: 1em; padding-right: 1em; text-align: center; vertical-align: top\">5</td>\n",
       "    </tr>\n",
       "    <tr>\n",
       "        <td style=\"padding-left: 1em; padding-right: 1em; text-align: center; vertical-align: top\">9</td>\n",
       "        <td style=\"padding-left: 1em; padding-right: 1em; text-align: center; vertical-align: top\">B000E7L2R4</td>\n",
       "        <td style=\"padding-left: 1em; padding-right: 1em; text-align: center; vertical-align: top\">A1MZYO9TZK0BBI</td>\n",
       "        <td style=\"padding-left: 1em; padding-right: 1em; text-align: center; vertical-align: top\">R. James</td>\n",
       "        <td style=\"padding-left: 1em; padding-right: 1em; text-align: center; vertical-align: top\">1</td>\n",
       "        <td style=\"padding-left: 1em; padding-right: 1em; text-align: center; vertical-align: top\">1</td>\n",
       "        <td style=\"padding-left: 1em; padding-right: 1em; text-align: center; vertical-align: top\">5</td>\n",
       "    </tr>\n",
       "    <tr>\n",
       "        <td style=\"padding-left: 1em; padding-right: 1em; text-align: center; vertical-align: top\">10</td>\n",
       "        <td style=\"padding-left: 1em; padding-right: 1em; text-align: center; vertical-align: top\">B00171APVA</td>\n",
       "        <td style=\"padding-left: 1em; padding-right: 1em; text-align: center; vertical-align: top\">A21BT40VZCCYT4</td>\n",
       "        <td style=\"padding-left: 1em; padding-right: 1em; text-align: center; vertical-align: top\">Carol A. Reed</td>\n",
       "        <td style=\"padding-left: 1em; padding-right: 1em; text-align: center; vertical-align: top\">0</td>\n",
       "        <td style=\"padding-left: 1em; padding-right: 1em; text-align: center; vertical-align: top\">0</td>\n",
       "        <td style=\"padding-left: 1em; padding-right: 1em; text-align: center; vertical-align: top\">5</td>\n",
       "    </tr>\n",
       "</table>\n",
       "<table frame=\"box\" rules=\"cols\">\n",
       "    <tr>\n",
       "        <th style=\"padding-left: 1em; padding-right: 1em; text-align: center\">Time</th>\n",
       "        <th style=\"padding-left: 1em; padding-right: 1em; text-align: center\">Summary</th>\n",
       "        <th style=\"padding-left: 1em; padding-right: 1em; text-align: center\">Text</th>\n",
       "    </tr>\n",
       "    <tr>\n",
       "        <td style=\"padding-left: 1em; padding-right: 1em; text-align: center; vertical-align: top\">1303862400</td>\n",
       "        <td style=\"padding-left: 1em; padding-right: 1em; text-align: center; vertical-align: top\">Good Quality Dog Food</td>\n",
       "        <td style=\"padding-left: 1em; padding-right: 1em; text-align: center; vertical-align: top\">I have bought several of<br>the Vitality canned dog ...</td>\n",
       "    </tr>\n",
       "    <tr>\n",
       "        <td style=\"padding-left: 1em; padding-right: 1em; text-align: center; vertical-align: top\">1346976000</td>\n",
       "        <td style=\"padding-left: 1em; padding-right: 1em; text-align: center; vertical-align: top\">Not as Advertised</td>\n",
       "        <td style=\"padding-left: 1em; padding-right: 1em; text-align: center; vertical-align: top\">Product arrived labeled<br>as Jumbo Salted ...</td>\n",
       "    </tr>\n",
       "    <tr>\n",
       "        <td style=\"padding-left: 1em; padding-right: 1em; text-align: center; vertical-align: top\">1219017600</td>\n",
       "        <td style=\"padding-left: 1em; padding-right: 1em; text-align: center; vertical-align: top\">\"Delight\" says it all</td>\n",
       "        <td style=\"padding-left: 1em; padding-right: 1em; text-align: center; vertical-align: top\">This is a confection that<br>has been around a few ...</td>\n",
       "    </tr>\n",
       "    <tr>\n",
       "        <td style=\"padding-left: 1em; padding-right: 1em; text-align: center; vertical-align: top\">1307923200</td>\n",
       "        <td style=\"padding-left: 1em; padding-right: 1em; text-align: center; vertical-align: top\">Cough Medicine</td>\n",
       "        <td style=\"padding-left: 1em; padding-right: 1em; text-align: center; vertical-align: top\">If you are looking for<br>the secret ingredient in ...</td>\n",
       "    </tr>\n",
       "    <tr>\n",
       "        <td style=\"padding-left: 1em; padding-right: 1em; text-align: center; vertical-align: top\">1350777600</td>\n",
       "        <td style=\"padding-left: 1em; padding-right: 1em; text-align: center; vertical-align: top\">Great taffy</td>\n",
       "        <td style=\"padding-left: 1em; padding-right: 1em; text-align: center; vertical-align: top\">Great taffy at a great<br>price.  There was a wide ...</td>\n",
       "    </tr>\n",
       "    <tr>\n",
       "        <td style=\"padding-left: 1em; padding-right: 1em; text-align: center; vertical-align: top\">1342051200</td>\n",
       "        <td style=\"padding-left: 1em; padding-right: 1em; text-align: center; vertical-align: top\">Nice Taffy</td>\n",
       "        <td style=\"padding-left: 1em; padding-right: 1em; text-align: center; vertical-align: top\">I got a wild hair for<br>taffy and ordered this ...</td>\n",
       "    </tr>\n",
       "    <tr>\n",
       "        <td style=\"padding-left: 1em; padding-right: 1em; text-align: center; vertical-align: top\">1340150400</td>\n",
       "        <td style=\"padding-left: 1em; padding-right: 1em; text-align: center; vertical-align: top\">Great!  Just as good as<br>the expensive brands! ...</td>\n",
       "        <td style=\"padding-left: 1em; padding-right: 1em; text-align: center; vertical-align: top\">This saltwater taffy had<br>great flavors and was ...</td>\n",
       "    </tr>\n",
       "    <tr>\n",
       "        <td style=\"padding-left: 1em; padding-right: 1em; text-align: center; vertical-align: top\">1336003200</td>\n",
       "        <td style=\"padding-left: 1em; padding-right: 1em; text-align: center; vertical-align: top\">Wonderful, tasty taffy</td>\n",
       "        <td style=\"padding-left: 1em; padding-right: 1em; text-align: center; vertical-align: top\">This taffy is so good.<br>It is very soft and ...</td>\n",
       "    </tr>\n",
       "    <tr>\n",
       "        <td style=\"padding-left: 1em; padding-right: 1em; text-align: center; vertical-align: top\">1322006400</td>\n",
       "        <td style=\"padding-left: 1em; padding-right: 1em; text-align: center; vertical-align: top\">Yay Barley</td>\n",
       "        <td style=\"padding-left: 1em; padding-right: 1em; text-align: center; vertical-align: top\">Right now I'm mostly just<br>sprouting this so my  ...</td>\n",
       "    </tr>\n",
       "    <tr>\n",
       "        <td style=\"padding-left: 1em; padding-right: 1em; text-align: center; vertical-align: top\">1351209600</td>\n",
       "        <td style=\"padding-left: 1em; padding-right: 1em; text-align: center; vertical-align: top\">Healthy Dog Food</td>\n",
       "        <td style=\"padding-left: 1em; padding-right: 1em; text-align: center; vertical-align: top\">This is a very healthy<br>dog food. Good for their ...</td>\n",
       "    </tr>\n",
       "</table>\n",
       "[568452 rows x 10 columns]<br/>Note: Only the head of the SFrame is printed.<br/>You can use print_rows(num_rows=m, num_columns=n) to print more rows and columns.\n",
       "</div>"
      ],
      "text/plain": [
       "<div style=\"max-height:1000px;max-width:1500px;overflow:auto;\"><table frame=\"box\" rules=\"cols\">\n",
       "    <tr>\n",
       "        <th style=\"padding-left: 1em; padding-right: 1em; text-align: center\">Id</th>\n",
       "        <th style=\"padding-left: 1em; padding-right: 1em; text-align: center\">ProductId</th>\n",
       "        <th style=\"padding-left: 1em; padding-right: 1em; text-align: center\">UserId</th>\n",
       "        <th style=\"padding-left: 1em; padding-right: 1em; text-align: center\">ProfileName</th>\n",
       "        <th style=\"padding-left: 1em; padding-right: 1em; text-align: center\">HelpfulnessNumerator</th>\n",
       "        <th style=\"padding-left: 1em; padding-right: 1em; text-align: center\">HelpfulnessDenominator</th>\n",
       "        <th style=\"padding-left: 1em; padding-right: 1em; text-align: center\">Score</th>\n",
       "    </tr>\n",
       "    <tr>\n",
       "        <td style=\"padding-left: 1em; padding-right: 1em; text-align: center; vertical-align: top\">1</td>\n",
       "        <td style=\"padding-left: 1em; padding-right: 1em; text-align: center; vertical-align: top\">B001E4KFG0</td>\n",
       "        <td style=\"padding-left: 1em; padding-right: 1em; text-align: center; vertical-align: top\">A3SGXH7AUHU8GW</td>\n",
       "        <td style=\"padding-left: 1em; padding-right: 1em; text-align: center; vertical-align: top\">delmartian</td>\n",
       "        <td style=\"padding-left: 1em; padding-right: 1em; text-align: center; vertical-align: top\">1</td>\n",
       "        <td style=\"padding-left: 1em; padding-right: 1em; text-align: center; vertical-align: top\">1</td>\n",
       "        <td style=\"padding-left: 1em; padding-right: 1em; text-align: center; vertical-align: top\">5</td>\n",
       "    </tr>\n",
       "    <tr>\n",
       "        <td style=\"padding-left: 1em; padding-right: 1em; text-align: center; vertical-align: top\">2</td>\n",
       "        <td style=\"padding-left: 1em; padding-right: 1em; text-align: center; vertical-align: top\">B00813GRG4</td>\n",
       "        <td style=\"padding-left: 1em; padding-right: 1em; text-align: center; vertical-align: top\">A1D87F6ZCVE5NK</td>\n",
       "        <td style=\"padding-left: 1em; padding-right: 1em; text-align: center; vertical-align: top\">dll pa</td>\n",
       "        <td style=\"padding-left: 1em; padding-right: 1em; text-align: center; vertical-align: top\">0</td>\n",
       "        <td style=\"padding-left: 1em; padding-right: 1em; text-align: center; vertical-align: top\">0</td>\n",
       "        <td style=\"padding-left: 1em; padding-right: 1em; text-align: center; vertical-align: top\">1</td>\n",
       "    </tr>\n",
       "    <tr>\n",
       "        <td style=\"padding-left: 1em; padding-right: 1em; text-align: center; vertical-align: top\">3</td>\n",
       "        <td style=\"padding-left: 1em; padding-right: 1em; text-align: center; vertical-align: top\">B000LQOCH0</td>\n",
       "        <td style=\"padding-left: 1em; padding-right: 1em; text-align: center; vertical-align: top\">ABXLMWJIXXAIN</td>\n",
       "        <td style=\"padding-left: 1em; padding-right: 1em; text-align: center; vertical-align: top\">Natalia Corres \"Natalia<br>Corres\" ...</td>\n",
       "        <td style=\"padding-left: 1em; padding-right: 1em; text-align: center; vertical-align: top\">1</td>\n",
       "        <td style=\"padding-left: 1em; padding-right: 1em; text-align: center; vertical-align: top\">1</td>\n",
       "        <td style=\"padding-left: 1em; padding-right: 1em; text-align: center; vertical-align: top\">4</td>\n",
       "    </tr>\n",
       "    <tr>\n",
       "        <td style=\"padding-left: 1em; padding-right: 1em; text-align: center; vertical-align: top\">4</td>\n",
       "        <td style=\"padding-left: 1em; padding-right: 1em; text-align: center; vertical-align: top\">B000UA0QIQ</td>\n",
       "        <td style=\"padding-left: 1em; padding-right: 1em; text-align: center; vertical-align: top\">A395BORC6FGVXV</td>\n",
       "        <td style=\"padding-left: 1em; padding-right: 1em; text-align: center; vertical-align: top\">Karl</td>\n",
       "        <td style=\"padding-left: 1em; padding-right: 1em; text-align: center; vertical-align: top\">3</td>\n",
       "        <td style=\"padding-left: 1em; padding-right: 1em; text-align: center; vertical-align: top\">3</td>\n",
       "        <td style=\"padding-left: 1em; padding-right: 1em; text-align: center; vertical-align: top\">2</td>\n",
       "    </tr>\n",
       "    <tr>\n",
       "        <td style=\"padding-left: 1em; padding-right: 1em; text-align: center; vertical-align: top\">5</td>\n",
       "        <td style=\"padding-left: 1em; padding-right: 1em; text-align: center; vertical-align: top\">B006K2ZZ7K</td>\n",
       "        <td style=\"padding-left: 1em; padding-right: 1em; text-align: center; vertical-align: top\">A1UQRSCLF8GW1T</td>\n",
       "        <td style=\"padding-left: 1em; padding-right: 1em; text-align: center; vertical-align: top\">Michael D. Bigham \"M.<br>Wassir\" ...</td>\n",
       "        <td style=\"padding-left: 1em; padding-right: 1em; text-align: center; vertical-align: top\">0</td>\n",
       "        <td style=\"padding-left: 1em; padding-right: 1em; text-align: center; vertical-align: top\">0</td>\n",
       "        <td style=\"padding-left: 1em; padding-right: 1em; text-align: center; vertical-align: top\">5</td>\n",
       "    </tr>\n",
       "    <tr>\n",
       "        <td style=\"padding-left: 1em; padding-right: 1em; text-align: center; vertical-align: top\">6</td>\n",
       "        <td style=\"padding-left: 1em; padding-right: 1em; text-align: center; vertical-align: top\">B006K2ZZ7K</td>\n",
       "        <td style=\"padding-left: 1em; padding-right: 1em; text-align: center; vertical-align: top\">ADT0SRK1MGOEU</td>\n",
       "        <td style=\"padding-left: 1em; padding-right: 1em; text-align: center; vertical-align: top\">Twoapennything</td>\n",
       "        <td style=\"padding-left: 1em; padding-right: 1em; text-align: center; vertical-align: top\">0</td>\n",
       "        <td style=\"padding-left: 1em; padding-right: 1em; text-align: center; vertical-align: top\">0</td>\n",
       "        <td style=\"padding-left: 1em; padding-right: 1em; text-align: center; vertical-align: top\">4</td>\n",
       "    </tr>\n",
       "    <tr>\n",
       "        <td style=\"padding-left: 1em; padding-right: 1em; text-align: center; vertical-align: top\">7</td>\n",
       "        <td style=\"padding-left: 1em; padding-right: 1em; text-align: center; vertical-align: top\">B006K2ZZ7K</td>\n",
       "        <td style=\"padding-left: 1em; padding-right: 1em; text-align: center; vertical-align: top\">A1SP2KVKFXXRU1</td>\n",
       "        <td style=\"padding-left: 1em; padding-right: 1em; text-align: center; vertical-align: top\">David C. Sullivan</td>\n",
       "        <td style=\"padding-left: 1em; padding-right: 1em; text-align: center; vertical-align: top\">0</td>\n",
       "        <td style=\"padding-left: 1em; padding-right: 1em; text-align: center; vertical-align: top\">0</td>\n",
       "        <td style=\"padding-left: 1em; padding-right: 1em; text-align: center; vertical-align: top\">5</td>\n",
       "    </tr>\n",
       "    <tr>\n",
       "        <td style=\"padding-left: 1em; padding-right: 1em; text-align: center; vertical-align: top\">8</td>\n",
       "        <td style=\"padding-left: 1em; padding-right: 1em; text-align: center; vertical-align: top\">B006K2ZZ7K</td>\n",
       "        <td style=\"padding-left: 1em; padding-right: 1em; text-align: center; vertical-align: top\">A3JRGQVEQN31IQ</td>\n",
       "        <td style=\"padding-left: 1em; padding-right: 1em; text-align: center; vertical-align: top\">Pamela G. Williams</td>\n",
       "        <td style=\"padding-left: 1em; padding-right: 1em; text-align: center; vertical-align: top\">0</td>\n",
       "        <td style=\"padding-left: 1em; padding-right: 1em; text-align: center; vertical-align: top\">0</td>\n",
       "        <td style=\"padding-left: 1em; padding-right: 1em; text-align: center; vertical-align: top\">5</td>\n",
       "    </tr>\n",
       "    <tr>\n",
       "        <td style=\"padding-left: 1em; padding-right: 1em; text-align: center; vertical-align: top\">9</td>\n",
       "        <td style=\"padding-left: 1em; padding-right: 1em; text-align: center; vertical-align: top\">B000E7L2R4</td>\n",
       "        <td style=\"padding-left: 1em; padding-right: 1em; text-align: center; vertical-align: top\">A1MZYO9TZK0BBI</td>\n",
       "        <td style=\"padding-left: 1em; padding-right: 1em; text-align: center; vertical-align: top\">R. James</td>\n",
       "        <td style=\"padding-left: 1em; padding-right: 1em; text-align: center; vertical-align: top\">1</td>\n",
       "        <td style=\"padding-left: 1em; padding-right: 1em; text-align: center; vertical-align: top\">1</td>\n",
       "        <td style=\"padding-left: 1em; padding-right: 1em; text-align: center; vertical-align: top\">5</td>\n",
       "    </tr>\n",
       "    <tr>\n",
       "        <td style=\"padding-left: 1em; padding-right: 1em; text-align: center; vertical-align: top\">10</td>\n",
       "        <td style=\"padding-left: 1em; padding-right: 1em; text-align: center; vertical-align: top\">B00171APVA</td>\n",
       "        <td style=\"padding-left: 1em; padding-right: 1em; text-align: center; vertical-align: top\">A21BT40VZCCYT4</td>\n",
       "        <td style=\"padding-left: 1em; padding-right: 1em; text-align: center; vertical-align: top\">Carol A. Reed</td>\n",
       "        <td style=\"padding-left: 1em; padding-right: 1em; text-align: center; vertical-align: top\">0</td>\n",
       "        <td style=\"padding-left: 1em; padding-right: 1em; text-align: center; vertical-align: top\">0</td>\n",
       "        <td style=\"padding-left: 1em; padding-right: 1em; text-align: center; vertical-align: top\">5</td>\n",
       "    </tr>\n",
       "</table>\n",
       "<table frame=\"box\" rules=\"cols\">\n",
       "    <tr>\n",
       "        <th style=\"padding-left: 1em; padding-right: 1em; text-align: center\">Time</th>\n",
       "        <th style=\"padding-left: 1em; padding-right: 1em; text-align: center\">Summary</th>\n",
       "        <th style=\"padding-left: 1em; padding-right: 1em; text-align: center\">Text</th>\n",
       "    </tr>\n",
       "    <tr>\n",
       "        <td style=\"padding-left: 1em; padding-right: 1em; text-align: center; vertical-align: top\">1303862400</td>\n",
       "        <td style=\"padding-left: 1em; padding-right: 1em; text-align: center; vertical-align: top\">Good Quality Dog Food</td>\n",
       "        <td style=\"padding-left: 1em; padding-right: 1em; text-align: center; vertical-align: top\">I have bought several of<br>the Vitality canned dog ...</td>\n",
       "    </tr>\n",
       "    <tr>\n",
       "        <td style=\"padding-left: 1em; padding-right: 1em; text-align: center; vertical-align: top\">1346976000</td>\n",
       "        <td style=\"padding-left: 1em; padding-right: 1em; text-align: center; vertical-align: top\">Not as Advertised</td>\n",
       "        <td style=\"padding-left: 1em; padding-right: 1em; text-align: center; vertical-align: top\">Product arrived labeled<br>as Jumbo Salted ...</td>\n",
       "    </tr>\n",
       "    <tr>\n",
       "        <td style=\"padding-left: 1em; padding-right: 1em; text-align: center; vertical-align: top\">1219017600</td>\n",
       "        <td style=\"padding-left: 1em; padding-right: 1em; text-align: center; vertical-align: top\">\"Delight\" says it all</td>\n",
       "        <td style=\"padding-left: 1em; padding-right: 1em; text-align: center; vertical-align: top\">This is a confection that<br>has been around a few ...</td>\n",
       "    </tr>\n",
       "    <tr>\n",
       "        <td style=\"padding-left: 1em; padding-right: 1em; text-align: center; vertical-align: top\">1307923200</td>\n",
       "        <td style=\"padding-left: 1em; padding-right: 1em; text-align: center; vertical-align: top\">Cough Medicine</td>\n",
       "        <td style=\"padding-left: 1em; padding-right: 1em; text-align: center; vertical-align: top\">If you are looking for<br>the secret ingredient in ...</td>\n",
       "    </tr>\n",
       "    <tr>\n",
       "        <td style=\"padding-left: 1em; padding-right: 1em; text-align: center; vertical-align: top\">1350777600</td>\n",
       "        <td style=\"padding-left: 1em; padding-right: 1em; text-align: center; vertical-align: top\">Great taffy</td>\n",
       "        <td style=\"padding-left: 1em; padding-right: 1em; text-align: center; vertical-align: top\">Great taffy at a great<br>price.  There was a wide ...</td>\n",
       "    </tr>\n",
       "    <tr>\n",
       "        <td style=\"padding-left: 1em; padding-right: 1em; text-align: center; vertical-align: top\">1342051200</td>\n",
       "        <td style=\"padding-left: 1em; padding-right: 1em; text-align: center; vertical-align: top\">Nice Taffy</td>\n",
       "        <td style=\"padding-left: 1em; padding-right: 1em; text-align: center; vertical-align: top\">I got a wild hair for<br>taffy and ordered this ...</td>\n",
       "    </tr>\n",
       "    <tr>\n",
       "        <td style=\"padding-left: 1em; padding-right: 1em; text-align: center; vertical-align: top\">1340150400</td>\n",
       "        <td style=\"padding-left: 1em; padding-right: 1em; text-align: center; vertical-align: top\">Great!  Just as good as<br>the expensive brands! ...</td>\n",
       "        <td style=\"padding-left: 1em; padding-right: 1em; text-align: center; vertical-align: top\">This saltwater taffy had<br>great flavors and was ...</td>\n",
       "    </tr>\n",
       "    <tr>\n",
       "        <td style=\"padding-left: 1em; padding-right: 1em; text-align: center; vertical-align: top\">1336003200</td>\n",
       "        <td style=\"padding-left: 1em; padding-right: 1em; text-align: center; vertical-align: top\">Wonderful, tasty taffy</td>\n",
       "        <td style=\"padding-left: 1em; padding-right: 1em; text-align: center; vertical-align: top\">This taffy is so good.<br>It is very soft and ...</td>\n",
       "    </tr>\n",
       "    <tr>\n",
       "        <td style=\"padding-left: 1em; padding-right: 1em; text-align: center; vertical-align: top\">1322006400</td>\n",
       "        <td style=\"padding-left: 1em; padding-right: 1em; text-align: center; vertical-align: top\">Yay Barley</td>\n",
       "        <td style=\"padding-left: 1em; padding-right: 1em; text-align: center; vertical-align: top\">Right now I'm mostly just<br>sprouting this so my  ...</td>\n",
       "    </tr>\n",
       "    <tr>\n",
       "        <td style=\"padding-left: 1em; padding-right: 1em; text-align: center; vertical-align: top\">1351209600</td>\n",
       "        <td style=\"padding-left: 1em; padding-right: 1em; text-align: center; vertical-align: top\">Healthy Dog Food</td>\n",
       "        <td style=\"padding-left: 1em; padding-right: 1em; text-align: center; vertical-align: top\">This is a very healthy<br>dog food. Good for their ...</td>\n",
       "    </tr>\n",
       "</table>\n",
       "[568452 rows x 10 columns]<br/>Note: Only the head of the SFrame is printed.<br/>You can use print_rows(num_rows=m, num_columns=n) to print more rows and columns.\n",
       "</div>"
      ]
     },
     "execution_count": 3,
     "metadata": {},
     "output_type": "execute_result"
    }
   ],
   "source": [
    "products"
   ]
  },
  {
   "cell_type": "markdown",
   "metadata": {},
   "source": [
    "## Build the word count vector for each review"
   ]
  },
  {
   "cell_type": "markdown",
   "metadata": {},
   "source": [
    "Vediamo uno specifico esempio di prodotto"
   ]
  },
  {
   "cell_type": "code",
   "execution_count": 4,
   "metadata": {
    "collapsed": false
   },
   "outputs": [
    {
     "data": {
      "text/plain": [
       "{'HelpfulnessDenominator': 1,\n 'HelpfulnessNumerator': 1,\n 'Id': 13,\n 'ProductId': 'B0009XLVG0',\n 'ProfileName': 'LT',\n 'Score': 1,\n 'Summary': 'My Cats Are Not Fans of the New Food',\n 'Text': \"My cats have been happily eating Felidae Platinum for more than two years. I just got a new bag and the shape of the food is different. They tried the new food when I first put it in their bowls and now the bowls sit full and the kitties will not touch the food. I've noticed similar reviews related to formula changes in the past. Unfortunately, I now need to find a new food that my cats will eat.\",\n 'Time': 1339545600,\n 'UserId': 'A327PCT23YH90'}"
      ]
     },
     "execution_count": 4,
     "metadata": {},
     "output_type": "execute_result"
    }
   ],
   "source": [
    "products[12]"
   ]
  },
  {
   "cell_type": "markdown",
   "metadata": {},
   "source": [
    "Ora faremo due semplici operazioni:\n",
    "* Rimozione della punteggiatura [Python's built-in](https://docs.python.org/2/library/string.html)\n",
    "* Word Count.\n"
   ]
  },
  {
   "cell_type": "code",
   "execution_count": 6,
   "metadata": {
    "collapsed": false
   },
   "outputs": [
    {
     "data": {
      "text/plain": [
       "{'a': 2,\n 'and': 3,\n 'bag': 1,\n 'been': 1,\n 'bowls': 2,\n 'cats': 2,\n 'changes': 1,\n 'different': 1,\n 'eat': 1,\n 'eating': 1,\n 'felidae': 1,\n 'find': 1,\n 'first': 1,\n 'food': 4,\n 'for': 1,\n 'formula': 1,\n 'full': 1,\n 'got': 1,\n 'happily': 1,\n 'have': 1,\n 'i': 3,\n 'in': 2,\n 'is': 1,\n 'it': 1,\n 'ive': 1,\n 'just': 1,\n 'kitties': 1,\n 'more': 1,\n 'my': 2,\n 'need': 1,\n 'new': 3,\n 'not': 1,\n 'noticed': 1,\n 'now': 2,\n 'of': 1,\n 'past': 1,\n 'platinum': 1,\n 'put': 1,\n 'related': 1,\n 'reviews': 1,\n 'shape': 1,\n 'similar': 1,\n 'sit': 1,\n 'than': 1,\n 'that': 1,\n 'the': 7,\n 'their': 1,\n 'they': 1,\n 'to': 2,\n 'touch': 1,\n 'tried': 1,\n 'two': 1,\n 'unfortunately': 1,\n 'when': 1,\n 'will': 2,\n 'years': 1}"
      ]
     },
     "execution_count": 5,
     "metadata": {},
     "output_type": "execute_result"
    }
   ],
   "source": [
    "def remove_punctuation(text):\n",
    "    import string\n",
    "    return text.translate(None, string.punctuation) \n",
    "\n",
    "review_without_puctuation = products['Text'].apply(remove_punctuation)\n",
    "products['word_count'] = graphlab.text_analytics.count_words(review_without_puctuation)\n",
    "products['word_count'][12]"
   ]
  },
  {
   "cell_type": "code",
   "execution_count": 14,
   "metadata": {
    "collapsed": false
   },
   "outputs": [],
   "source": [
    "graphlab.text_analytics.stopwords()"
   ]
  },
  {
   "cell_type": "code",
   "execution_count": 7,
   "metadata": {
    "collapsed": false
   },
   "outputs": [],
   "source": [
    "review_without_stopwords = products['word_count'].dict_trim_by_keys(graphlab.text_analytics.stopwords(), True)\n",
    "products['filter_stopwords'] = review_without_stopwords\n"
   ]
  },
  {
   "cell_type": "markdown",
   "metadata": {},
   "source": [
    "Vediamo un esempio dopo queste due trasformazioni. Ogni entry della colonna **filter_stopwords** è un dizionario dove la chiave è la parola e il valore è il conteggio del numero di volte che la parola occorre. "
   ]
  },
  {
   "cell_type": "code",
   "execution_count": 8,
   "metadata": {
    "collapsed": false
   },
   "outputs": [
    {
     "data": {
      "text/plain": [
       "{'bag': 1,\n 'bowls': 2,\n 'cats': 2,\n 'eat': 1,\n 'eating': 1,\n 'felidae': 1,\n 'find': 1,\n 'food': 4,\n 'formula': 1,\n 'full': 1,\n 'happily': 1,\n 'ive': 1,\n 'kitties': 1,\n 'noticed': 1,\n 'past': 1,\n 'platinum': 1,\n 'put': 1,\n 'related': 1,\n 'reviews': 1,\n 'shape': 1,\n 'similar': 1,\n 'sit': 1,\n 'touch': 1,\n 'years': 1}"
      ]
     },
     "execution_count": 8,
     "metadata": {},
     "output_type": "execute_result"
    }
   ],
   "source": [
    "products[12]['filter_stopwords']"
   ]
  },
  {
   "cell_type": "markdown",
   "metadata": {},
   "source": [
    "## Estrazione dei sentimenti\n",
    "\n",
    "Ignoreremo tutte le reviews che hanno * rating =3 *, perchè tendono ad avere sentimento neutrale.  "
   ]
  },
  {
   "cell_type": "code",
   "execution_count": 9,
   "metadata": {
    "collapsed": false
   },
   "outputs": [
    {
     "data": {
      "text/plain": [
       "525812"
      ]
     },
     "execution_count": 9,
     "metadata": {},
     "output_type": "execute_result"
    }
   ],
   "source": [
    "products = products[products['Score'] != 3]\n",
    "len(products)"
   ]
  },
  {
   "cell_type": "markdown",
   "metadata": {},
   "source": [
    "* Assegniamo un sentimento positivo a tutte le reviews che hanno uno score >=4 e un sentimento negativo a tutte quelle che hanno un voto pari a 2 o più basso.\n",
    "* Utilizziamo +1 per sentimento positivo e -1 per quello negativo, come etichette delle classi."
   ]
  },
  {
   "cell_type": "code",
   "execution_count": 10,
   "metadata": {
    "collapsed": false
   },
   "outputs": [],
   "source": [
    "products['sentiment'] = products['Score'].apply(lambda rating : +1 if rating > 3 else -1)"
   ]
  },
  {
   "cell_type": "markdown",
   "metadata": {},
   "source": [
    "Ora la colonna contiene una colonna extra chiamata  **sentimento** che è o positiva (+1) o negativa(-1)."
   ]
  },
  {
   "cell_type": "markdown",
   "metadata": {},
   "source": [
    "## Train e test set"
   ]
  },
  {
   "cell_type": "markdown",
   "metadata": {},
   "source": [
    "Facciamo una divisione train/test dove l'80% dei dati è all'interno del training set e il 20% dei dati è nel test set. Utilizziamo seed=0, in modo da ottenere sempre lo stesso risultato."
   ]
  },
  {
   "cell_type": "code",
   "execution_count": 11,
   "metadata": {
    "collapsed": false
   },
   "outputs": [
    {
     "name": "stdout",
     "output_type": "stream",
     "text": [
      "420615\n105197\n"
     ]
    }
   ],
   "source": [
    "train_data, test_data = products.random_split(.8, seed=0)\n",
    "print len(train_data)\n",
    "print len(test_data)"
   ]
  },
  {
   "cell_type": "markdown",
   "metadata": {},
   "source": [
    "# Addestra un sentiment classifier con la logistic  regression.  \n",
    "\n",
    "Utilizziamo la logistic regression per creare un sentiment classifier sui dati di training.  In questo modello utilizzeremo la colonna stopwords come caratteristica e la colonna sentiment come target.   \n",
    "\n",
    "**NB:** Può metterci qualche minuto. "
   ]
  },
  {
   "cell_type": "code",
   "execution_count": 15,
   "metadata": {
    "collapsed": false
   },
   "outputs": [
    {
     "data": {
      "text/html": [
       "<pre>Logistic regression:</pre>"
      ],
      "text/plain": [
       "<pre>Logistic regression:</pre>"
      ]
     },
     "execution_count": 0,
     "metadata": {},
     "output_type": "execute_result"
    },
    {
     "data": {
      "text/html": [
       "<pre>--------------------------------------------------------</pre>"
      ],
      "text/plain": [
       "<pre>--------------------------------------------------------</pre>"
      ]
     },
     "execution_count": 0,
     "metadata": {},
     "output_type": "execute_result"
    },
    {
     "data": {
      "text/html": [
       "<pre>Number of examples          : 420615</pre>"
      ],
      "text/plain": [
       "<pre>Number of examples          : 420615</pre>"
      ]
     },
     "execution_count": 0,
     "metadata": {},
     "output_type": "execute_result"
    },
    {
     "data": {
      "text/html": [
       "<pre>Number of classes           : 2</pre>"
      ],
      "text/plain": [
       "<pre>Number of classes           : 2</pre>"
      ]
     },
     "execution_count": 0,
     "metadata": {},
     "output_type": "execute_result"
    },
    {
     "data": {
      "text/html": [
       "<pre>Number of feature columns   : 1</pre>"
      ],
      "text/plain": [
       "<pre>Number of feature columns   : 1</pre>"
      ]
     },
     "execution_count": 0,
     "metadata": {},
     "output_type": "execute_result"
    },
    {
     "data": {
      "text/html": [
       "<pre>Number of unpacked features : 201271</pre>"
      ],
      "text/plain": [
       "<pre>Number of unpacked features : 201271</pre>"
      ]
     },
     "execution_count": 0,
     "metadata": {},
     "output_type": "execute_result"
    },
    {
     "data": {
      "text/html": [
       "<pre>Number of coefficients    : 201272</pre>"
      ],
      "text/plain": [
       "<pre>Number of coefficients    : 201272</pre>"
      ]
     },
     "execution_count": 0,
     "metadata": {},
     "output_type": "execute_result"
    },
    {
     "data": {
      "text/html": [
       "<pre>Starting L-BFGS</pre>"
      ],
      "text/plain": [
       "<pre>Starting L-BFGS</pre>"
      ]
     },
     "execution_count": 0,
     "metadata": {},
     "output_type": "execute_result"
    },
    {
     "data": {
      "text/html": [
       "<pre>--------------------------------------------------------</pre>"
      ],
      "text/plain": [
       "<pre>--------------------------------------------------------</pre>"
      ]
     },
     "execution_count": 0,
     "metadata": {},
     "output_type": "execute_result"
    },
    {
     "data": {
      "text/html": [
       "<pre>+-----------+----------+-----------+--------------+-------------------+</pre>"
      ],
      "text/plain": [
       "<pre>+-----------+----------+-----------+--------------+-------------------+</pre>"
      ]
     },
     "execution_count": 0,
     "metadata": {},
     "output_type": "execute_result"
    },
    {
     "data": {
      "text/html": [
       "<pre>| Iteration | Passes   | Step size | Elapsed Time | Training-accuracy |</pre>"
      ],
      "text/plain": [
       "<pre>| Iteration | Passes   | Step size | Elapsed Time | Training-accuracy |</pre>"
      ]
     },
     "execution_count": 0,
     "metadata": {},
     "output_type": "execute_result"
    },
    {
     "data": {
      "text/html": [
       "<pre>+-----------+----------+-----------+--------------+-------------------+</pre>"
      ],
      "text/plain": [
       "<pre>+-----------+----------+-----------+--------------+-------------------+</pre>"
      ]
     },
     "execution_count": 0,
     "metadata": {},
     "output_type": "execute_result"
    },
    {
     "data": {
      "text/html": [
       "<pre>| 1         | 4        | 0.000001  | 4.367207     | 0.844775          |</pre>"
      ],
      "text/plain": [
       "<pre>| 1         | 4        | 0.000001  | 4.367207     | 0.844775          |</pre>"
      ]
     },
     "execution_count": 0,
     "metadata": {},
     "output_type": "execute_result"
    },
    {
     "data": {
      "text/html": [
       "<pre>| 2         | 8        | 3.000000  | 7.642625     | 0.938065          |</pre>"
      ],
      "text/plain": [
       "<pre>| 2         | 8        | 3.000000  | 7.642625     | 0.938065          |</pre>"
      ]
     },
     "execution_count": 0,
     "metadata": {},
     "output_type": "execute_result"
    },
    {
     "data": {
      "text/html": [
       "<pre>| 3         | 9        | 3.000000  | 8.615615     | 0.933828          |</pre>"
      ],
      "text/plain": [
       "<pre>| 3         | 9        | 3.000000  | 8.615615     | 0.933828          |</pre>"
      ]
     },
     "execution_count": 0,
     "metadata": {},
     "output_type": "execute_result"
    },
    {
     "data": {
      "text/html": [
       "<pre>| 4         | 10       | 3.000000  | 9.678896     | 0.957329          |</pre>"
      ],
      "text/plain": [
       "<pre>| 4         | 10       | 3.000000  | 9.678896     | 0.957329          |</pre>"
      ]
     },
     "execution_count": 0,
     "metadata": {},
     "output_type": "execute_result"
    },
    {
     "data": {
      "text/html": [
       "<pre>| 5         | 11       | 3.000000  | 10.671607    | 0.958603          |</pre>"
      ],
      "text/plain": [
       "<pre>| 5         | 11       | 3.000000  | 10.671607    | 0.958603          |</pre>"
      ]
     },
     "execution_count": 0,
     "metadata": {},
     "output_type": "execute_result"
    },
    {
     "data": {
      "text/html": [
       "<pre>| 6         | 12       | 3.000000  | 11.624711    | 0.965900          |</pre>"
      ],
      "text/plain": [
       "<pre>| 6         | 12       | 3.000000  | 11.624711    | 0.965900          |</pre>"
      ]
     },
     "execution_count": 0,
     "metadata": {},
     "output_type": "execute_result"
    },
    {
     "data": {
      "text/html": [
       "<pre>| 7         | 13       | 3.000000  | 12.549122    | 0.960389          |</pre>"
      ],
      "text/plain": [
       "<pre>| 7         | 13       | 3.000000  | 12.549122    | 0.960389          |</pre>"
      ]
     },
     "execution_count": 0,
     "metadata": {},
     "output_type": "execute_result"
    },
    {
     "data": {
      "text/html": [
       "<pre>| 8         | 15       | 1.000000  | 14.216257    | 0.968646          |</pre>"
      ],
      "text/plain": [
       "<pre>| 8         | 15       | 1.000000  | 14.216257    | 0.968646          |</pre>"
      ]
     },
     "execution_count": 0,
     "metadata": {},
     "output_type": "execute_result"
    },
    {
     "data": {
      "text/html": [
       "<pre>| 9         | 16       | 1.000000  | 15.197262    | 0.970084          |</pre>"
      ],
      "text/plain": [
       "<pre>| 9         | 16       | 1.000000  | 15.197262    | 0.970084          |</pre>"
      ]
     },
     "execution_count": 0,
     "metadata": {},
     "output_type": "execute_result"
    },
    {
     "data": {
      "text/html": [
       "<pre>| 10        | 17       | 1.000000  | 16.314656    | 0.972374          |</pre>"
      ],
      "text/plain": [
       "<pre>| 10        | 17       | 1.000000  | 16.314656    | 0.972374          |</pre>"
      ]
     },
     "execution_count": 0,
     "metadata": {},
     "output_type": "execute_result"
    },
    {
     "data": {
      "text/html": [
       "<pre>+-----------+----------+-----------+--------------+-------------------+</pre>"
      ],
      "text/plain": [
       "<pre>+-----------+----------+-----------+--------------+-------------------+</pre>"
      ]
     },
     "execution_count": 0,
     "metadata": {},
     "output_type": "execute_result"
    },
    {
     "data": {
      "text/html": [
       "<pre>TERMINATED: Iteration limit reached.</pre>"
      ],
      "text/plain": [
       "<pre>TERMINATED: Iteration limit reached.</pre>"
      ]
     },
     "execution_count": 0,
     "metadata": {},
     "output_type": "execute_result"
    },
    {
     "data": {
      "text/html": [
       "<pre>This model may not be optimal. To improve it, consider increasing `max_iterations`.</pre>"
      ],
      "text/plain": [
       "<pre>This model may not be optimal. To improve it, consider increasing `max_iterations`.</pre>"
      ]
     },
     "execution_count": 0,
     "metadata": {},
     "output_type": "execute_result"
    }
   ],
   "source": [
    "sentiment_model = graphlab.logistic_classifier.create(train_data,\n",
    "                                                      target = 'sentiment',\n",
    "                                                      features=['filter_stopwords'],\n",
    "                                                      validation_set=None)"
   ]
  },
  {
   "cell_type": "markdown",
   "metadata": {},
   "source": [
    "Una volta addestrato il modello è possibile vedere i coefficienti."
   ]
  },
  {
   "cell_type": "code",
   "execution_count": 16,
   "metadata": {
    "collapsed": false
   },
   "outputs": [
    {
     "data": {
      "text/plain": [
       "['name', 'index', 'class', 'value', 'stderr']"
      ]
     },
     "execution_count": 16,
     "metadata": {},
     "output_type": "execute_result"
    }
   ],
   "source": [
    "weights = sentiment_model.coefficients\n",
    "weights.column_names()"
   ]
  },
  {
   "cell_type": "code",
   "execution_count": 17,
   "metadata": {
    "collapsed": false
   },
   "outputs": [
    {
     "data": {
      "text/html": [
       "<div style=\"max-height:1000px;max-width:1500px;overflow:auto;\"><table frame=\"box\" rules=\"cols\">\n",
       "    <tr>\n",
       "        <th style=\"padding-left: 1em; padding-right: 1em; text-align: center\">name</th>\n",
       "        <th style=\"padding-left: 1em; padding-right: 1em; text-align: center\">index</th>\n",
       "        <th style=\"padding-left: 1em; padding-right: 1em; text-align: center\">class</th>\n",
       "        <th style=\"padding-left: 1em; padding-right: 1em; text-align: center\">value</th>\n",
       "        <th style=\"padding-left: 1em; padding-right: 1em; text-align: center\">stderr</th>\n",
       "    </tr>\n",
       "    <tr>\n",
       "        <td style=\"padding-left: 1em; padding-right: 1em; text-align: center; vertical-align: top\">(intercept)</td>\n",
       "        <td style=\"padding-left: 1em; padding-right: 1em; text-align: center; vertical-align: top\">None</td>\n",
       "        <td style=\"padding-left: 1em; padding-right: 1em; text-align: center; vertical-align: top\">1</td>\n",
       "        <td style=\"padding-left: 1em; padding-right: 1em; text-align: center; vertical-align: top\">0.904186705898</td>\n",
       "        <td style=\"padding-left: 1em; padding-right: 1em; text-align: center; vertical-align: top\">None</td>\n",
       "    </tr>\n",
       "    <tr>\n",
       "        <td style=\"padding-left: 1em; padding-right: 1em; text-align: center; vertical-align: top\">filter_stopwords</td>\n",
       "        <td style=\"padding-left: 1em; padding-right: 1em; text-align: center; vertical-align: top\">appreciates</td>\n",
       "        <td style=\"padding-left: 1em; padding-right: 1em; text-align: center; vertical-align: top\">1</td>\n",
       "        <td style=\"padding-left: 1em; padding-right: 1em; text-align: center; vertical-align: top\">0.660950962771</td>\n",
       "        <td style=\"padding-left: 1em; padding-right: 1em; text-align: center; vertical-align: top\">None</td>\n",
       "    </tr>\n",
       "    <tr>\n",
       "        <td style=\"padding-left: 1em; padding-right: 1em; text-align: center; vertical-align: top\">filter_stopwords</td>\n",
       "        <td style=\"padding-left: 1em; padding-right: 1em; text-align: center; vertical-align: top\">labrador</td>\n",
       "        <td style=\"padding-left: 1em; padding-right: 1em; text-align: center; vertical-align: top\">1</td>\n",
       "        <td style=\"padding-left: 1em; padding-right: 1em; text-align: center; vertical-align: top\">0.077241980261</td>\n",
       "        <td style=\"padding-left: 1em; padding-right: 1em; text-align: center; vertical-align: top\">None</td>\n",
       "    </tr>\n",
       "    <tr>\n",
       "        <td style=\"padding-left: 1em; padding-right: 1em; text-align: center; vertical-align: top\">filter_stopwords</td>\n",
       "        <td style=\"padding-left: 1em; padding-right: 1em; text-align: center; vertical-align: top\">smells</td>\n",
       "        <td style=\"padding-left: 1em; padding-right: 1em; text-align: center; vertical-align: top\">1</td>\n",
       "        <td style=\"padding-left: 1em; padding-right: 1em; text-align: center; vertical-align: top\">-0.14982514128</td>\n",
       "        <td style=\"padding-left: 1em; padding-right: 1em; text-align: center; vertical-align: top\">None</td>\n",
       "    </tr>\n",
       "    <tr>\n",
       "        <td style=\"padding-left: 1em; padding-right: 1em; text-align: center; vertical-align: top\">filter_stopwords</td>\n",
       "        <td style=\"padding-left: 1em; padding-right: 1em; text-align: center; vertical-align: top\">meat</td>\n",
       "        <td style=\"padding-left: 1em; padding-right: 1em; text-align: center; vertical-align: top\">1</td>\n",
       "        <td style=\"padding-left: 1em; padding-right: 1em; text-align: center; vertical-align: top\">0.0165779738554</td>\n",
       "        <td style=\"padding-left: 1em; padding-right: 1em; text-align: center; vertical-align: top\">None</td>\n",
       "    </tr>\n",
       "    <tr>\n",
       "        <td style=\"padding-left: 1em; padding-right: 1em; text-align: center; vertical-align: top\">filter_stopwords</td>\n",
       "        <td style=\"padding-left: 1em; padding-right: 1em; text-align: center; vertical-align: top\">processed</td>\n",
       "        <td style=\"padding-left: 1em; padding-right: 1em; text-align: center; vertical-align: top\">1</td>\n",
       "        <td style=\"padding-left: 1em; padding-right: 1em; text-align: center; vertical-align: top\">-0.146814127141</td>\n",
       "        <td style=\"padding-left: 1em; padding-right: 1em; text-align: center; vertical-align: top\">None</td>\n",
       "    </tr>\n",
       "    <tr>\n",
       "        <td style=\"padding-left: 1em; padding-right: 1em; text-align: center; vertical-align: top\">filter_stopwords</td>\n",
       "        <td style=\"padding-left: 1em; padding-right: 1em; text-align: center; vertical-align: top\">stew</td>\n",
       "        <td style=\"padding-left: 1em; padding-right: 1em; text-align: center; vertical-align: top\">1</td>\n",
       "        <td style=\"padding-left: 1em; padding-right: 1em; text-align: center; vertical-align: top\">0.378883626945</td>\n",
       "        <td style=\"padding-left: 1em; padding-right: 1em; text-align: center; vertical-align: top\">None</td>\n",
       "    </tr>\n",
       "    <tr>\n",
       "        <td style=\"padding-left: 1em; padding-right: 1em; text-align: center; vertical-align: top\">filter_stopwords</td>\n",
       "        <td style=\"padding-left: 1em; padding-right: 1em; text-align: center; vertical-align: top\">bought</td>\n",
       "        <td style=\"padding-left: 1em; padding-right: 1em; text-align: center; vertical-align: top\">1</td>\n",
       "        <td style=\"padding-left: 1em; padding-right: 1em; text-align: center; vertical-align: top\">-0.355416224029</td>\n",
       "        <td style=\"padding-left: 1em; padding-right: 1em; text-align: center; vertical-align: top\">None</td>\n",
       "    </tr>\n",
       "    <tr>\n",
       "        <td style=\"padding-left: 1em; padding-right: 1em; text-align: center; vertical-align: top\">filter_stopwords</td>\n",
       "        <td style=\"padding-left: 1em; padding-right: 1em; text-align: center; vertical-align: top\">product</td>\n",
       "        <td style=\"padding-left: 1em; padding-right: 1em; text-align: center; vertical-align: top\">1</td>\n",
       "        <td style=\"padding-left: 1em; padding-right: 1em; text-align: center; vertical-align: top\">-0.0521112837281</td>\n",
       "        <td style=\"padding-left: 1em; padding-right: 1em; text-align: center; vertical-align: top\">None</td>\n",
       "    </tr>\n",
       "    <tr>\n",
       "        <td style=\"padding-left: 1em; padding-right: 1em; text-align: center; vertical-align: top\">filter_stopwords</td>\n",
       "        <td style=\"padding-left: 1em; padding-right: 1em; text-align: center; vertical-align: top\">finicky</td>\n",
       "        <td style=\"padding-left: 1em; padding-right: 1em; text-align: center; vertical-align: top\">1</td>\n",
       "        <td style=\"padding-left: 1em; padding-right: 1em; text-align: center; vertical-align: top\">0.598182320732</td>\n",
       "        <td style=\"padding-left: 1em; padding-right: 1em; text-align: center; vertical-align: top\">None</td>\n",
       "    </tr>\n",
       "</table>\n",
       "[201272 rows x 5 columns]<br/>Note: Only the head of the SFrame is printed.<br/>You can use print_rows(num_rows=m, num_columns=n) to print more rows and columns.\n",
       "</div>"
      ],
      "text/plain": [
       "<div style=\"max-height:1000px;max-width:1500px;overflow:auto;\"><table frame=\"box\" rules=\"cols\">\n",
       "    <tr>\n",
       "        <th style=\"padding-left: 1em; padding-right: 1em; text-align: center\">name</th>\n",
       "        <th style=\"padding-left: 1em; padding-right: 1em; text-align: center\">index</th>\n",
       "        <th style=\"padding-left: 1em; padding-right: 1em; text-align: center\">class</th>\n",
       "        <th style=\"padding-left: 1em; padding-right: 1em; text-align: center\">value</th>\n",
       "        <th style=\"padding-left: 1em; padding-right: 1em; text-align: center\">stderr</th>\n",
       "    </tr>\n",
       "    <tr>\n",
       "        <td style=\"padding-left: 1em; padding-right: 1em; text-align: center; vertical-align: top\">(intercept)</td>\n",
       "        <td style=\"padding-left: 1em; padding-right: 1em; text-align: center; vertical-align: top\">None</td>\n",
       "        <td style=\"padding-left: 1em; padding-right: 1em; text-align: center; vertical-align: top\">1</td>\n",
       "        <td style=\"padding-left: 1em; padding-right: 1em; text-align: center; vertical-align: top\">0.904186705898</td>\n",
       "        <td style=\"padding-left: 1em; padding-right: 1em; text-align: center; vertical-align: top\">None</td>\n",
       "    </tr>\n",
       "    <tr>\n",
       "        <td style=\"padding-left: 1em; padding-right: 1em; text-align: center; vertical-align: top\">filter_stopwords</td>\n",
       "        <td style=\"padding-left: 1em; padding-right: 1em; text-align: center; vertical-align: top\">appreciates</td>\n",
       "        <td style=\"padding-left: 1em; padding-right: 1em; text-align: center; vertical-align: top\">1</td>\n",
       "        <td style=\"padding-left: 1em; padding-right: 1em; text-align: center; vertical-align: top\">0.660950962771</td>\n",
       "        <td style=\"padding-left: 1em; padding-right: 1em; text-align: center; vertical-align: top\">None</td>\n",
       "    </tr>\n",
       "    <tr>\n",
       "        <td style=\"padding-left: 1em; padding-right: 1em; text-align: center; vertical-align: top\">filter_stopwords</td>\n",
       "        <td style=\"padding-left: 1em; padding-right: 1em; text-align: center; vertical-align: top\">labrador</td>\n",
       "        <td style=\"padding-left: 1em; padding-right: 1em; text-align: center; vertical-align: top\">1</td>\n",
       "        <td style=\"padding-left: 1em; padding-right: 1em; text-align: center; vertical-align: top\">0.077241980261</td>\n",
       "        <td style=\"padding-left: 1em; padding-right: 1em; text-align: center; vertical-align: top\">None</td>\n",
       "    </tr>\n",
       "    <tr>\n",
       "        <td style=\"padding-left: 1em; padding-right: 1em; text-align: center; vertical-align: top\">filter_stopwords</td>\n",
       "        <td style=\"padding-left: 1em; padding-right: 1em; text-align: center; vertical-align: top\">smells</td>\n",
       "        <td style=\"padding-left: 1em; padding-right: 1em; text-align: center; vertical-align: top\">1</td>\n",
       "        <td style=\"padding-left: 1em; padding-right: 1em; text-align: center; vertical-align: top\">-0.14982514128</td>\n",
       "        <td style=\"padding-left: 1em; padding-right: 1em; text-align: center; vertical-align: top\">None</td>\n",
       "    </tr>\n",
       "    <tr>\n",
       "        <td style=\"padding-left: 1em; padding-right: 1em; text-align: center; vertical-align: top\">filter_stopwords</td>\n",
       "        <td style=\"padding-left: 1em; padding-right: 1em; text-align: center; vertical-align: top\">meat</td>\n",
       "        <td style=\"padding-left: 1em; padding-right: 1em; text-align: center; vertical-align: top\">1</td>\n",
       "        <td style=\"padding-left: 1em; padding-right: 1em; text-align: center; vertical-align: top\">0.0165779738554</td>\n",
       "        <td style=\"padding-left: 1em; padding-right: 1em; text-align: center; vertical-align: top\">None</td>\n",
       "    </tr>\n",
       "    <tr>\n",
       "        <td style=\"padding-left: 1em; padding-right: 1em; text-align: center; vertical-align: top\">filter_stopwords</td>\n",
       "        <td style=\"padding-left: 1em; padding-right: 1em; text-align: center; vertical-align: top\">processed</td>\n",
       "        <td style=\"padding-left: 1em; padding-right: 1em; text-align: center; vertical-align: top\">1</td>\n",
       "        <td style=\"padding-left: 1em; padding-right: 1em; text-align: center; vertical-align: top\">-0.146814127141</td>\n",
       "        <td style=\"padding-left: 1em; padding-right: 1em; text-align: center; vertical-align: top\">None</td>\n",
       "    </tr>\n",
       "    <tr>\n",
       "        <td style=\"padding-left: 1em; padding-right: 1em; text-align: center; vertical-align: top\">filter_stopwords</td>\n",
       "        <td style=\"padding-left: 1em; padding-right: 1em; text-align: center; vertical-align: top\">stew</td>\n",
       "        <td style=\"padding-left: 1em; padding-right: 1em; text-align: center; vertical-align: top\">1</td>\n",
       "        <td style=\"padding-left: 1em; padding-right: 1em; text-align: center; vertical-align: top\">0.378883626945</td>\n",
       "        <td style=\"padding-left: 1em; padding-right: 1em; text-align: center; vertical-align: top\">None</td>\n",
       "    </tr>\n",
       "    <tr>\n",
       "        <td style=\"padding-left: 1em; padding-right: 1em; text-align: center; vertical-align: top\">filter_stopwords</td>\n",
       "        <td style=\"padding-left: 1em; padding-right: 1em; text-align: center; vertical-align: top\">bought</td>\n",
       "        <td style=\"padding-left: 1em; padding-right: 1em; text-align: center; vertical-align: top\">1</td>\n",
       "        <td style=\"padding-left: 1em; padding-right: 1em; text-align: center; vertical-align: top\">-0.355416224029</td>\n",
       "        <td style=\"padding-left: 1em; padding-right: 1em; text-align: center; vertical-align: top\">None</td>\n",
       "    </tr>\n",
       "    <tr>\n",
       "        <td style=\"padding-left: 1em; padding-right: 1em; text-align: center; vertical-align: top\">filter_stopwords</td>\n",
       "        <td style=\"padding-left: 1em; padding-right: 1em; text-align: center; vertical-align: top\">product</td>\n",
       "        <td style=\"padding-left: 1em; padding-right: 1em; text-align: center; vertical-align: top\">1</td>\n",
       "        <td style=\"padding-left: 1em; padding-right: 1em; text-align: center; vertical-align: top\">-0.0521112837281</td>\n",
       "        <td style=\"padding-left: 1em; padding-right: 1em; text-align: center; vertical-align: top\">None</td>\n",
       "    </tr>\n",
       "    <tr>\n",
       "        <td style=\"padding-left: 1em; padding-right: 1em; text-align: center; vertical-align: top\">filter_stopwords</td>\n",
       "        <td style=\"padding-left: 1em; padding-right: 1em; text-align: center; vertical-align: top\">finicky</td>\n",
       "        <td style=\"padding-left: 1em; padding-right: 1em; text-align: center; vertical-align: top\">1</td>\n",
       "        <td style=\"padding-left: 1em; padding-right: 1em; text-align: center; vertical-align: top\">0.598182320732</td>\n",
       "        <td style=\"padding-left: 1em; padding-right: 1em; text-align: center; vertical-align: top\">None</td>\n",
       "    </tr>\n",
       "</table>\n",
       "[201272 rows x 5 columns]<br/>Note: Only the head of the SFrame is printed.<br/>You can use print_rows(num_rows=m, num_columns=n) to print more rows and columns.\n",
       "</div>"
      ]
     },
     "execution_count": 17,
     "metadata": {},
     "output_type": "execute_result"
    }
   ],
   "source": [
    "weights"
   ]
  },
  {
   "cell_type": "markdown",
   "metadata": {},
   "source": [
    "Ci sono un totale di `213505` coefficienti nel modello. Ricorda dalla lezione precedente : i pesi positivi  $w_j$ corrisponondo ai pesi che causano sentimento positivo, mentre i pesi negativi corrispondono a sentimento negativo.  "
   ]
  },
  {
   "cell_type": "code",
   "execution_count": 18,
   "metadata": {
    "collapsed": false
   },
   "outputs": [
    {
     "name": "stdout",
     "output_type": "stream",
     "text": [
      "Totale coefficienti positivi: 152991 \nTotale coefficienti negativi: 48281 \n"
     ]
    }
   ],
   "source": [
    "num_positive_weights = len(weights[weights['value'] >= 0])\n",
    "num_negative_weights = len(weights[weights['value'] < 0])\n",
    "\n",
    "print \"Totale coefficienti positivi: %s \" % num_positive_weights\n",
    "print \"Totale coefficienti negativi: %s \" % num_negative_weights"
   ]
  },
  {
   "cell_type": "markdown",
   "metadata": {},
   "source": [
    "**Quiz question:** How many weights are >= 0?"
   ]
  },
  {
   "cell_type": "markdown",
   "metadata": {},
   "source": [
    "## Fare previsioni con la logistic regression\n",
    "\n",
    "Una volta che il modello è addestrato è possibile fare previsioni sui dati di test. In questa sezione prenderemo in considerazione 3 esempi nel dataset di test, che chiameremo **sample_test_data**."
   ]
  },
  {
   "cell_type": "code",
   "execution_count": 14,
   "metadata": {
    "collapsed": false
   },
   "outputs": [
    {
     "name": "stdout",
     "output_type": "stream",
     "text": [
      "[4, 5, 1]\n"
     ]
    },
    {
     "data": {
      "text/html": [
       "<div style=\"max-height:1000px;max-width:1500px;overflow:auto;\"><table frame=\"box\" rules=\"cols\">\n",
       "    <tr>\n",
       "        <th style=\"padding-left: 1em; padding-right: 1em; text-align: center\">Id</th>\n",
       "        <th style=\"padding-left: 1em; padding-right: 1em; text-align: center\">ProductId</th>\n",
       "        <th style=\"padding-left: 1em; padding-right: 1em; text-align: center\">UserId</th>\n",
       "        <th style=\"padding-left: 1em; padding-right: 1em; text-align: center\">ProfileName</th>\n",
       "        <th style=\"padding-left: 1em; padding-right: 1em; text-align: center\">HelpfulnessNumerator</th>\n",
       "        <th style=\"padding-left: 1em; padding-right: 1em; text-align: center\">HelpfulnessDenominator</th>\n",
       "        <th style=\"padding-left: 1em; padding-right: 1em; text-align: center\">Score</th>\n",
       "    </tr>\n",
       "    <tr>\n",
       "        <td style=\"padding-left: 1em; padding-right: 1em; text-align: center; vertical-align: top\">1115</td>\n",
       "        <td style=\"padding-left: 1em; padding-right: 1em; text-align: center; vertical-align: top\">B003UDV9SG</td>\n",
       "        <td style=\"padding-left: 1em; padding-right: 1em; text-align: center; vertical-align: top\">A2W09PJ1TTHQ6H</td>\n",
       "        <td style=\"padding-left: 1em; padding-right: 1em; text-align: center; vertical-align: top\">Research Hound</td>\n",
       "        <td style=\"padding-left: 1em; padding-right: 1em; text-align: center; vertical-align: top\">0</td>\n",
       "        <td style=\"padding-left: 1em; padding-right: 1em; text-align: center; vertical-align: top\">0</td>\n",
       "        <td style=\"padding-left: 1em; padding-right: 1em; text-align: center; vertical-align: top\">4</td>\n",
       "    </tr>\n",
       "    <tr>\n",
       "        <td style=\"padding-left: 1em; padding-right: 1em; text-align: center; vertical-align: top\">1119</td>\n",
       "        <td style=\"padding-left: 1em; padding-right: 1em; text-align: center; vertical-align: top\">B002N2XXUC</td>\n",
       "        <td style=\"padding-left: 1em; padding-right: 1em; text-align: center; vertical-align: top\">A15FF2P7RPKH6G</td>\n",
       "        <td style=\"padding-left: 1em; padding-right: 1em; text-align: center; vertical-align: top\">Jackquiline D. Jolliffe<br>\"Jackie jolliffe\" ...</td>\n",
       "        <td style=\"padding-left: 1em; padding-right: 1em; text-align: center; vertical-align: top\">1</td>\n",
       "        <td style=\"padding-left: 1em; padding-right: 1em; text-align: center; vertical-align: top\">2</td>\n",
       "        <td style=\"padding-left: 1em; padding-right: 1em; text-align: center; vertical-align: top\">5</td>\n",
       "    </tr>\n",
       "    <tr>\n",
       "        <td style=\"padding-left: 1em; padding-right: 1em; text-align: center; vertical-align: top\">1128</td>\n",
       "        <td style=\"padding-left: 1em; padding-right: 1em; text-align: center; vertical-align: top\">B000UUYOPW</td>\n",
       "        <td style=\"padding-left: 1em; padding-right: 1em; text-align: center; vertical-align: top\">AGXG6VBHLW8J7</td>\n",
       "        <td style=\"padding-left: 1em; padding-right: 1em; text-align: center; vertical-align: top\">Danielle M. Karaszkiewicz<br>\"Dani\" ...</td>\n",
       "        <td style=\"padding-left: 1em; padding-right: 1em; text-align: center; vertical-align: top\">1</td>\n",
       "        <td style=\"padding-left: 1em; padding-right: 1em; text-align: center; vertical-align: top\">1</td>\n",
       "        <td style=\"padding-left: 1em; padding-right: 1em; text-align: center; vertical-align: top\">1</td>\n",
       "    </tr>\n",
       "</table>\n",
       "<table frame=\"box\" rules=\"cols\">\n",
       "    <tr>\n",
       "        <th style=\"padding-left: 1em; padding-right: 1em; text-align: center\">Time</th>\n",
       "        <th style=\"padding-left: 1em; padding-right: 1em; text-align: center\">Summary</th>\n",
       "        <th style=\"padding-left: 1em; padding-right: 1em; text-align: center\">Text</th>\n",
       "        <th style=\"padding-left: 1em; padding-right: 1em; text-align: center\">word_count</th>\n",
       "    </tr>\n",
       "    <tr>\n",
       "        <td style=\"padding-left: 1em; padding-right: 1em; text-align: center; vertical-align: top\">1342310400</td>\n",
       "        <td style=\"padding-left: 1em; padding-right: 1em; text-align: center; vertical-align: top\">Good brand of food</td>\n",
       "        <td style=\"padding-left: 1em; padding-right: 1em; text-align: center; vertical-align: top\">I have now tried both the<br>Ocean Fish and Tuna and ...</td>\n",
       "        <td style=\"padding-left: 1em; padding-right: 1em; text-align: center; vertical-align: top\">{'just': 1, 'wasteful':<br>1, 'being': 1, 'softer': ...</td>\n",
       "    </tr>\n",
       "    <tr>\n",
       "        <td style=\"padding-left: 1em; padding-right: 1em; text-align: center; vertical-align: top\">1306454400</td>\n",
       "        <td style=\"padding-left: 1em; padding-right: 1em; text-align: center; vertical-align: top\">lovely</td>\n",
       "        <td style=\"padding-left: 1em; padding-right: 1em; text-align: center; vertical-align: top\">ordered these for my<br>daughters wedding cake ...</td>\n",
       "        <td style=\"padding-left: 1em; padding-right: 1em; text-align: center; vertical-align: top\">{'ordered': 1, 'days': 1,<br>'four': 1, 'are': 1, ...</td>\n",
       "    </tr>\n",
       "    <tr>\n",
       "        <td style=\"padding-left: 1em; padding-right: 1em; text-align: center; vertical-align: top\">1291248000</td>\n",
       "        <td style=\"padding-left: 1em; padding-right: 1em; text-align: center; vertical-align: top\">NOT 6 pieces.</td>\n",
       "        <td style=\"padding-left: 1em; padding-right: 1em; text-align: center; vertical-align: top\">Even though the item says<br>\"Pack of 6,\" I only ...</td>\n",
       "        <td style=\"padding-left: 1em; padding-right: 1em; text-align: center; vertical-align: top\">{'refund': 1, 'and': 3,<br>'says': 2, 'we': 1, ...</td>\n",
       "    </tr>\n",
       "</table>\n",
       "<table frame=\"box\" rules=\"cols\">\n",
       "    <tr>\n",
       "        <th style=\"padding-left: 1em; padding-right: 1em; text-align: center\">filter_stopwords</th>\n",
       "        <th style=\"padding-left: 1em; padding-right: 1em; text-align: center\">sentiment</th>\n",
       "    </tr>\n",
       "    <tr>\n",
       "        <td style=\"padding-left: 1em; padding-right: 1em; text-align: center; vertical-align: top\">{'shedding': 1, 'dont':<br>1, 'deal': 1, 'give': 1, ...</td>\n",
       "        <td style=\"padding-left: 1em; padding-right: 1em; text-align: center; vertical-align: top\">1</td>\n",
       "    </tr>\n",
       "    <tr>\n",
       "        <td style=\"padding-left: 1em; padding-right: 1em; text-align: center; vertical-align: top\">{'ordered': 1,<br>'overnight': 1, 'days': ...</td>\n",
       "        <td style=\"padding-left: 1em; padding-right: 1em; text-align: center; vertical-align: top\">1</td>\n",
       "    </tr>\n",
       "    <tr>\n",
       "        <td style=\"padding-left: 1em; padding-right: 1em; text-align: center; vertical-align: top\">{'refund': 1, 'received':<br>1, 'wanted': 1, 'whats': ...</td>\n",
       "        <td style=\"padding-left: 1em; padding-right: 1em; text-align: center; vertical-align: top\">-1</td>\n",
       "    </tr>\n",
       "</table>\n",
       "[3 rows x 13 columns]<br/>\n",
       "</div>"
      ],
      "text/plain": [
       "Columns:\n",
       "\tId\tint\n",
       "\tProductId\tstr\n",
       "\tUserId\tstr\n",
       "\tProfileName\tstr\n",
       "\tHelpfulnessNumerator\tint\n",
       "\tHelpfulnessDenominator\tint\n",
       "\tScore\tint\n",
       "\tTime\tint\n",
       "\tSummary\tstr\n",
       "\tText\tstr\n",
       "\tword_count\tdict\n",
       "\tfilter_stopwords\tdict\n",
       "\tsentiment\tint\n",
       "\n",
       "Rows: 3\n",
       "\n",
       "Data:\n",
       "+------+------------+----------------+-------------------------------+----------------------+\n",
       "|  Id  | ProductId  |     UserId     |          ProfileName          | HelpfulnessNumerator |\n",
       "+------+------------+----------------+-------------------------------+----------------------+\n",
       "| 1115 | B003UDV9SG | A2W09PJ1TTHQ6H |         Research Hound        |          0           |\n",
       "| 1119 | B002N2XXUC | A15FF2P7RPKH6G | Jackquiline D. Jolliffe \"J... |          1           |\n",
       "| 1128 | B000UUYOPW | AGXG6VBHLW8J7  | Danielle M. Karaszkiewicz ... |          1           |\n",
       "+------+------------+----------------+-------------------------------+----------------------+\n",
       "+------------------------+-------+------------+--------------------+\n",
       "| HelpfulnessDenominator | Score |    Time    |      Summary       |\n",
       "+------------------------+-------+------------+--------------------+\n",
       "|           0            |   4   | 1342310400 | Good brand of food |\n",
       "|           2            |   5   | 1306454400 |       lovely       |\n",
       "|           1            |   1   | 1291248000 |   NOT 6 pieces.    |\n",
       "+------------------------+-------+------------+--------------------+\n",
       "+-------------------------------+-------------------------------+\n",
       "|              Text             |           word_count          |\n",
       "+-------------------------------+-------------------------------+\n",
       "| I have now tried both the ... | {'just': 1, 'wasteful': 1,... |\n",
       "| ordered these for my daugh... | {'ordered': 1, 'days': 1, ... |\n",
       "| Even though the item says ... | {'refund': 1, 'and': 3, 's... |\n",
       "+-------------------------------+-------------------------------+\n",
       "+-------------------------------+-----------+\n",
       "|        filter_stopwords       | sentiment |\n",
       "+-------------------------------+-----------+\n",
       "| {'shedding': 1, 'dont': 1,... |     1     |\n",
       "| {'ordered': 1, 'overnight'... |     1     |\n",
       "| {'refund': 1, 'received': ... |     -1    |\n",
       "+-------------------------------+-----------+\n",
       "[3 rows x 13 columns]"
      ]
     },
     "execution_count": 14,
     "metadata": {},
     "output_type": "execute_result"
    }
   ],
   "source": [
    "sample_test_data = test_data[207:210]\n",
    "print sample_test_data['Score']\n",
    "sample_test_data"
   ]
  },
  {
   "cell_type": "code",
   "execution_count": 15,
   "metadata": {
    "collapsed": false
   },
   "outputs": [
    {
     "data": {
      "text/plain": [
       "\"I have now tried both the Ocean Fish and Tuna and the Duck and Chicken variety of this food.  My cat seems to prefer the taste of the duck and chicken a little better, but I will probably rotate them both because of the health benefits he's gotten (especially from the ocean fish and tuna) that have included a softer coat and less scratching and biting of himself and shedding.  Also, with this food, he doesn't drink much water, but still goes potty alot, so I feel good that he's getting plenty of fluids in his diet.  My only complaint with this brand, and why I only give it 4 stars, is that it has little pieces of potato? and whole peas in it, which my cat eats around and ends up being wasteful, which I don't like given the price.  Not that big of a deal, but it is a minor inconvenience that I have to clean leftover bits out after each feeding as opposed to just washing his empty bowl daily.  (In case you are wondering, it is approximately 4 to 6 whole pea/1.5 pea size potato? bits per 1/4 to 1/2 can.)\""
      ]
     },
     "execution_count": 15,
     "metadata": {},
     "output_type": "execute_result"
    }
   ],
   "source": [
    "sample_test_data[0]['Text']"
   ]
  },
  {
   "cell_type": "code",
   "execution_count": 16,
   "metadata": {
    "collapsed": false
   },
   "outputs": [
    {
     "data": {
      "text/plain": [
       "'ordered these for my daughters wedding cake overnight so that i would get them the next day<br />they came four days after wedding<br />but they are nice'"
      ]
     },
     "execution_count": 16,
     "metadata": {},
     "output_type": "execute_result"
    }
   ],
   "source": [
    "sample_test_data[1]['Text']"
   ]
  },
  {
   "cell_type": "code",
   "execution_count": 17,
   "metadata": {
    "collapsed": false
   },
   "outputs": [
    {
     "data": {
      "text/plain": [
       "'Even though the item says \"Pack of 6,\" I only received one. I called them up to see where the other 5 were, and they said that Amazon put it incorrectly. Seriously?? They are issuing a refund, but still. I wanted 6, which is what the item says, and instead and only getting the 1. Should we just not trust what\\'s on Amazon now???'"
      ]
     },
     "execution_count": 17,
     "metadata": {},
     "output_type": "execute_result"
    }
   ],
   "source": [
    "sample_test_data[2]['Text']"
   ]
  },
  {
   "cell_type": "markdown",
   "metadata": {},
   "source": [
    "Cerchiamo di prevedere la classe per le review che sono contenute all'interno di  **sample_test_data**. Il `sentiment_model` dà come risultato  **+1** se il sentimento è positivo e **-1** se il sentimento è negativo. Ricorda, dalla lezione precedente che lo **score** (chiamato anche **margin**) per il logistc regression model è definito come:\n",
    "\n",
    "$$\n",
    "\\mbox{score}_i = \\mathbf{w}^T h(\\mathbf{x}_i)\n",
    "$$ \n",
    "\n",
    "dove $h(\\mathbf{x}_i)$ rappresenta le features per l'esempio  $i$. \n",
    "Per ogni riga **scores** sarà un numero in **[-inf, inf]**."
   ]
  },
  {
   "cell_type": "code",
   "execution_count": 18,
   "metadata": {
    "collapsed": false
   },
   "outputs": [
    {
     "name": "stdout",
     "output_type": "stream",
     "text": [
      "[15.080081706290922, 3.81388694226362, -4.357529571164855]\n"
     ]
    }
   ],
   "source": [
    "scores = sentiment_model.predict(sample_test_data, output_type='margin')\n",
    "print scores"
   ]
  },
  {
   "cell_type": "markdown",
   "metadata": {},
   "source": [
    "### Sentiment\n",
    "\n",
    "Questi scores sono utilizzati per determinare il sentimento nella maniera seguente\n",
    "$$\n",
    "\\hat{y} = \n",
    "\\left\\{\n",
    "\\begin{array}{ll}\n",
    "      +1 & \\mathbf{w}^T h(\\mathbf{x}_i) > 0 \\\\\n",
    "      -1 & \\mathbf{w}^T h(\\mathbf{x}_i) \\leq 0 \\\\\n",
    "\\end{array} \n",
    "\\right.\n",
    "$$\n",
    "\n"
   ]
  },
  {
   "cell_type": "markdown",
   "metadata": {},
   "source": [
    "Verifichiamo che le classi predette sono le stesse di quelle ottenute da GraphLab."
   ]
  },
  {
   "cell_type": "code",
   "execution_count": 19,
   "metadata": {
    "collapsed": false
   },
   "outputs": [
    {
     "name": "stdout",
     "output_type": "stream",
     "text": [
      "Classi:\n",
      "[1, 1, -1]\n"
     ]
    }
   ],
   "source": [
    "print \"Classi:\" \n",
    "print sentiment_model.predict(sample_test_data)"
   ]
  },
  {
   "cell_type": "markdown",
   "metadata": {},
   "source": [
    "\n",
    "### Previsione basata sulla probabilità\n",
    "\n",
    "Possiamo calcolare le previsioni in termini di probabilità ,a partire dagli score utilizzando:\n",
    "$$\n",
    "P(y_i = +1 | \\mathbf{x}_i,\\mathbf{w}) = \\frac{1}{1 + \\exp(-\\mathbf{w}^T h(\\mathbf{x}_i))}.\n",
    "$$\n"
   ]
  },
  {
   "cell_type": "code",
   "execution_count": 20,
   "metadata": {
    "collapsed": false
   },
   "outputs": [
    {
     "name": "stdout",
     "output_type": "stream",
     "text": [
      "[0.9999997176397188, 0.9784139789923071, 0.012647974287842645]\n"
     ]
    }
   ],
   "source": [
    "print sentiment_model.predict(sample_test_data, output_type='probability')"
   ]
  },
  {
   "cell_type": "markdown",
   "metadata": {
    "collapsed": true
   },
   "source": [
    "## Trova le reviews piu positive e piu negative"
   ]
  },
  {
   "cell_type": "markdown",
   "metadata": {},
   "source": [
    "Analizziamo il completo dataset di test, e utilizziamo GraphLab Create per determinare le previsioni di tutti i prodotti all'interno del dataset di test, con lo scopo di ottenere migliori prestazioni. \n",
    "\n",
    "Utilizzando  `sentiment_model`, trova le 20 reviews all'interno di **test_data** con la più **alta probabilità** di essere classificata come **review positiva**. \n",
    "Chiameremo queste reviews **most positive reviews**.\n",
    "\n",
    "Come facciamo a calcolare queste 20 reviews?\n",
    "Seguiamo i seguenti passi: \n",
    "1.  Calcola le previsioni tramite la probabilità sui dati di test usando`sentiment_model` \n",
    "2.  Ordina i dati secondo queste predizioni e prendi i primi 20."
   ]
  },
  {
   "cell_type": "code",
   "execution_count": 21,
   "metadata": {
    "collapsed": false
   },
   "outputs": [],
   "source": [
    "test_data['prediction'] = sentiment_model.predict(test_data, output_type='probability')"
   ]
  },
  {
   "cell_type": "code",
   "execution_count": 22,
   "metadata": {
    "collapsed": false
   },
   "outputs": [
    {
     "name": "stdout",
     "output_type": "stream",
     "text": [
      "+-------+------------+----------------+-------------------------------+----------------------+\n",
      "|   Id  | ProductId  |     UserId     |          ProfileName          | HelpfulnessNumerator |\n",
      "+-------+------------+----------------+-------------------------------+----------------------+\n",
      "|  3022 | B000B9SFP2 | AZFHSPEZUPGD2  |            Carol M            |          4           |\n",
      "|  3025 | B000B9SFP2 | A3U78OW4OO2Q8W |      poltroon \"poltroon\"      |          0           |\n",
      "| 11520 | B0002UM1AA | A3072VKAJZ18X0 |             Meglet            |          1           |\n",
      "| 12241 | B00141UC9I | A1EUHMS0VCAX31 |      Karen \"kawaiioni02\"      |          6           |\n",
      "| 18638 | B00008JOL0 | AWOR961LMDUIF  |            J. Davis           |          3           |\n",
      "| 18921 | B000F4H5FE | A30JGTOA15XB8W |          D. J. Smith          |          4           |\n",
      "| 19571 | B000084ETV | A3NTV9VHMBY1KH | Kimberly A. Kubek \"Doodle ... |          9           |\n",
      "| 19828 | B00390T5JA | A2TJG4N8LNJW23 |         Blythe Dresser        |          1           |\n",
      "| 20420 | B001BDDTB2 | A1ZM846Y7AUYD  |          M. Pickering         |          3           |\n",
      "| 22299 | B000KOWQ8A | A2A1XYSB692L6J |      Patricia \"A Reader\"      |          0           |\n",
      "| 22484 | B00016AU3K | A1YUL9PCJR3JTY | O. Brown \"Ms. O. Khannah-B... |          11          |\n",
      "| 26444 | B000E5ILGQ | A1LZJZIHUPLDV4 | vegancompassion \"anattanup... |          12          |\n",
      "| 36082 | B0011DMUDK | A21BJAFOZL0M35 |            Kennedy            |          0           |\n",
      "| 42889 | B002NHYQAS | A24HWYHR28JJ7A | &#131;&#367;&#142;&#378;&#... |          4           |\n",
      "| 50097 | B000QUZ9C8 | A2FS9CYCWC6HLW | Anna M. Ligtenberg \"AnnaLo... |          1           |\n",
      "| 50910 | B00139C3P2 | A1K82R24ROO2I7 |       A. Cheffy \"Cheffy\"      |          10          |\n",
      "| 51341 | B0014UAHQM | A26HFSVLAGULIM | Heather L. Parisi \"Robert ... |          12          |\n",
      "| 52278 | B000P49A0W | A3RR2P5IS3DGPR | Dr. M. A. Dixon \"hyper-obs... |          1           |\n",
      "| 55732 | B00141QYMC | A2N8ZUVVQTO667 |       L. Sy \"Bona Vita\"       |          1           |\n",
      "| 60717 | B003QNJYXM | AN80CRGE3LTNX  |  RadioActive1 \"RadioActive1\"  |          3           |\n",
      "+-------+------------+----------------+-------------------------------+----------------------+\n",
      "+------------------------+-------+------------+-------------------------------+\n",
      "| HelpfulnessDenominator | Score |    Time    |            Summary            |\n",
      "+------------------------+-------+------------+-------------------------------+\n",
      "|           4            |   4   | 1309651200 | Very good corral for 1 hor... |\n",
      "|           0            |   4   | 1319932800 | Nicely thought out kit for... |\n",
      "|           2            |   4   | 1337817600 | Exquisite! An elegant addi... |\n",
      "|           8            |   5   | 1232496000 |        the real review        |\n",
      "|           3            |   5   | 1342915200 |          Doggy Likes!         |\n",
      "|           4            |   5   | 1264377600 | Best Gunpowder available f... |\n",
      "|           9            |   4   | 1175731200 | Very good ingredient list ... |\n",
      "|           2            |   5   | 1326672000 | We really couldn't be happ... |\n",
      "|           3            |   4   | 1228176000 | Healthy Feline Cuisine For... |\n",
      "|           0            |   5   | 1200528000 | E S S E N T I A L........Y... |\n",
      "|           11           |   4   | 1160956800 | Delicious, Yes, May Help W... |\n",
      "|           13           |   5   | 1267660800 |  Vegan Natural Kosher Choice  |\n",
      "|           0            |   5   | 1338163200 | Celestial Seasonings Herba... |\n",
      "|           7            |   4   | 1298073600 | Yummy smooth dark chocolat... |\n",
      "|           2            |   5   | 1219795200 | Reeses Pieces Peanut Butte... |\n",
      "|           10           |   5   | 1254873600 | Happy whiskers and two paw... |\n",
      "|           14           |   5   | 1132444800 | SUPER NATURAL SUGER SUBSTI... |\n",
      "|           1            |   5   | 1305936000 | Delicious chocolate way to... |\n",
      "|           1            |   5   | 1317427200 |    Please continue to sell.   |\n",
      "|           3            |   4   | 1285545600 |      Pleasantly Surprised     |\n",
      "+------------------------+-------+------------+-------------------------------+\n",
      "+-------------------------------+-------------------------------+\n",
      "|              Text             |           word_count          |\n",
      "+-------------------------------+-------------------------------+\n",
      "| I love portable electric c... | {'walking': 1, 'think': 1,... |\n",
      "| This kit pulls together se... | {'load': 1, 'all': 1, '45'... |\n",
      "| I am in love with everythi... | {'hrefhttpwwwamazoncomgppr... |\n",
      "| My puppy loves these vital... | {'replied': 1, 'origin': 1... |\n",
      "| My 10 lbs chihuahua/doxie ... | {'chinesemade': 1, 'all': ... |\n",
      "| This is the best Gunpowder... | {'teabr': 2, 'set': 1, 'ju... |\n",
      "| I have a Goldendoodle and ... | {'nondigestiblefiller': 1,... |\n",
      "| My boyfriend and I receive... | {'all': 4, 'hitandmiss': 1... |\n",
      "| Most people know that cats... | {'all': 10, 'consider': 1,... |\n",
      "| AMAZON.COM seems right on ... | {'all': 1, 'forget': 1, 's... |\n",
      "| ****<br />This Kava Stress... | {'relieve': 1, 'yellow': 1... |\n",
      "| Vegan. Natural. Kosher. Be... | {'12a': 2, 'all': 2, 'serv... |\n",
      "| Flavorful bursts of cinnam... | {'opinions': 1, 'teabr': 2... |\n",
      "| Fuzzy Wuzzy's Summary:<br ... | {'all': 2, 'consider': 1, ... |\n",
      "| As of August 27, 2008 - al... | {'all': 2, 'currently': 3,... |\n",
      "| *Note to Amazon.com,<br />... | {'can156br': 1, 'food': 5,... |\n",
      "| EXCELLENT SUGAR SUBSTITUTE... | {'planetary': 1, 'all': 4,... |\n",
      "| These Chocoperfection bars... | {'all': 1, 'acts': 1, 'pre... |\n",
      "| Enough of these misinforma... | {'all': 1, 'since': 2, 'sh... |\n",
      "| First, let me say that I u... | {'all': 1, 'rest': 2, 'pur... |\n",
      "+-------------------------------+-------------------------------+\n",
      "+-------------------------------+-----------+------------+\n",
      "|        filter_stopwords       | sentiment | prediction |\n",
      "+-------------------------------+-----------+------------+\n",
      "| {'walking': 1, 'snapoff': ... |     1     |    1.0     |\n",
      "| {'load': 1, 'set': 3, 'ins... |     1     |    1.0     |\n",
      "| {'hrefhttpwwwamazoncomgppr... |     1     |    1.0     |\n",
      "| {'replied': 1, 'origin': 1... |     1     |    1.0     |\n",
      "| {'chinesemade': 1, 'cherry... |     1     |    1.0     |\n",
      "| {'teabr': 2, 'set': 1, 'hr... |     1     |    1.0     |\n",
      "| {'nondigestiblefiller': 1,... |     1     |    1.0     |\n",
      "| {'stores': 1, 'sister': 1,... |     1     |    1.0     |\n",
      "| {'serving': 1, 'allowed': ... |     1     |    1.0     |\n",
      "| {'45': 1, 'stores': 1, 'fo... |     1     |    1.0     |\n",
      "| {'breastfeeding': 1, 'exce... |     1     |    1.0     |\n",
      "| {'12a': 2, 'approx': 1, 's... |     1     |    1.0     |\n",
      "| {'opinions': 1, 'teabr': 2... |     1     |    1.0     |\n",
      "| {'12a': 1, 'saturated': 1,... |     1     |    1.0     |\n",
      "| {'875': 1, '1870br': 1, 'd... |     1     |    1.0     |\n",
      "| {'can156br': 1, 'iodate': ... |     1     |    1.0     |\n",
      "| {'planetary': 1, 'teabr': ... |     1     |    1.0     |\n",
      "| {'acts': 1, 'prebiotic': 3... |     1     |    1.0     |\n",
      "| {'show': 1, 'issued': 2, '... |     1     |    1.0     |\n",
      "| {'rest': 2, 'purely': 1, '... |     1     |    1.0     |\n",
      "+-------------------------------+-----------+------------+\n",
      "[20 rows x 14 columns]\n",
      "\n"
     ]
    }
   ],
   "source": [
    "top_20_positive = test_data.topk('prediction', k=20)\n",
    "top_20_positive.print_rows(num_rows=20)"
   ]
  },
  {
   "cell_type": "code",
   "execution_count": 23,
   "metadata": {
    "collapsed": false,
    "scrolled": true
   },
   "outputs": [
    {
     "data": {
      "text/plain": [
       "\"*Note to Amazon.com,<br /><br />Pretty please put this Liver on Subscribe and Save! You have the beef & liver and the beef available for S&S but not the Liver yet. THANK YOU SO MUCH!<br /><br />Now on to my review...<br /><br />My cat has been slowly switching to Newman's own beef products over from Wellness brand cat food (which is a great brand and will still be reserved for treats occasionally). I was ecstatic that there was a totally NO grain-and-NO fillers ORGANIC cat food I could feed my 9 year old cat who is prone to crystal formation in his bladder and also plaque build up on his teeth (even though I brush his outer teeth every evening).<br /><br />So far I've tried the beef & Liver and the Liver and he LOVES it. I just ordered the beef today for him which I'm sure he'll love too.<br /><br />This product *IS* very thick and concentrated (the beef liver alone has the consistency of a concentrated pate' and the beef & liver has the consistency of a gelatinous, thick beefy oatmeal), so I scoop it into his bowl and blend a bit of hot water to the product to warm the fats and make more of a 'gravy' for him (he also prefers to eat his food a bit warm anyhow). He barely wants to nibble at his Wellness brand cat food now (which I've had him on for over four years, so I guess that means he's one 'sold' cat. It might be unusual for a cat to love beef so much but my cat goes crazy for beef (especially if I make him steak when I can afford to). So, for me to find him a organic, no grain, beef based line of cat food made his day (and one of his nine lives no doubt)!<br /><br />Anyway, if you know your cat already loves beef and beef liver then he/she will probably be just peachy keen with this product.<br /><br />Here is the ingredients list for Newman's own canned beef cat products:<br /><br />Beef:<br /><br />Organic Beef, Organic Beef Broth, Minerals (Calcium Carbonate, Zinc Proteinate, Iron Carbonate, Copper Proteinate, Manganese Iodate, Calcium Iodate, Sodium Selenite), Taurine, Vitamins (Vitamin A, E, E, D3, B12 and K Supplements, Choline, Niacin, Pantothenic Acid, Riboflavin, Thiamine, Pyridoxine, Folic Acid, Biotin).<br /><br />GUARANTEED ANALYSIS:<br /><br />Crude Protein..................12.0% (min)<br />Crude Fat.........................4.5% (min)<br />Crude Fiber......................1.0% (max)<br />Moisture.........................82.0% (max)<br />Ash.................................1.0% (max)<br />Magnesium.....................0.02% (max)<br />Taurine..........................0.07% (min)<br /><br />CALORIC VALUE:<br /><br />As fed (Kcal/3oz can)...........156<br /><br />Liver:<br /><br />Organic Beef Liver, Organic Liver Broth, Minerals (Calcium Carbonate, Zinc Proteinate, Iron Carbonate, Copper Proteinate, Manganese Iodate, Calcium Iodate, Sodium Selenite), Taurine, Vitamins (Vitamin A, E, E, D3, B12 and K Supplements, Choline, Niacin, Pantothenic Acid, Riboflavin, Thiamine, Pyridoxine, Folic Acid, Biotin).<br /><br />GUARANTEED ANALYSIS:<br /><br />Crude Protein..................11.0% (min)<br />Crude Fat.........................2.5% (min)<br />Crude Fiber......................1.0% (max)<br />Moisture.........................83.0% (max)<br />Ash.................................1.5% (max)<br />Magnesium.....................0.02% (max)<br />Taurine..........................0.07% (min)<br /><br />CALORIC VALUE:<br /><br />As fed (Kcal/12oz can)...........129<br /><br />Beef & Liver:<br /><br />Organic Beef, Organic Beef Liver, Organic Beef Broth, Minerals (Calcium Carbonate, Zinc Proteinate, Iron Carbonate, Copper Proteinate, Manganese Iodate, Calcium Iodate, Sodium Selenite), Taurine, Vitamins (Vitamin A, E, E, D3, B12 and K Supplements, Choline, Niacin, Pantothenic Acid, Riboflavin, Thiamine, Pyridoxine, Folic Acid, Biotin).<br /><br />GUARANTEED ANALYSIS:<br /><br />Crude Protein..................10.0% (min)<br />Crude Fat.........................3.0% (min)<br />Crude Fiber......................1.0% (max)<br />Moisture.........................82.0% (max)<br />Ash.................................1.0% (max)<br />Magnesium.....................0.02% (max)<br />Taurine..........................0.07% (min)<br /><br />CALORIC VALUE:<br /><br />As fed (Kcal/12oz can)...........140<br /><br />Here's to Kitty's health!\""
      ]
     },
     "execution_count": 23,
     "metadata": {},
     "output_type": "execute_result"
    }
   ],
   "source": [
    "top_20_positive[15][\"Text\"]"
   ]
  },
  {
   "cell_type": "code",
   "execution_count": 24,
   "metadata": {
    "collapsed": false,
    "scrolled": true
   },
   "outputs": [
    {
     "name": "stdout",
     "output_type": "stream",
     "text": [
      "+--------+------------+----------------+----------------------------+----------------------+\n",
      "|   Id   | ProductId  |     UserId     |        ProfileName         | HelpfulnessNumerator |\n",
      "+--------+------------+----------------+----------------------------+----------------------+\n",
      "| 448127 | B003MOXA6C | A3FOM5AA39AAS0 |    Vasiliki \"vasiliki\"     |          1           |\n",
      "| 226249 | B002T0NWKE | A33ZYFE8XMKKR1 | P. Scott Pope \"Scott Pope\" |          31          |\n",
      "| 338239 | B002T0GXNC | A33ZYFE8XMKKR1 | P. Scott Pope \"Scott Pope\" |          31          |\n",
      "| 177656 | B003561V40 | A33ZYFE8XMKKR1 | P. Scott Pope \"Scott Pope\" |          31          |\n",
      "| 354818 | B003YV46WK | A33ZYFE8XMKKR1 | P. Scott Pope \"Scott Pope\" |          31          |\n",
      "| 219822 | B004SKZWBK | AFAWC4ZJ29YV1  |             AG             |          0           |\n",
      "| 325920 | B000OH73FO | A33YMBT1Y895S  |            Kara            |          2           |\n",
      "| 318796 | B003MW7858 | A14VQRIH3FDX5K |         kittenkatt         |          5           |\n",
      "| 96833  | B003WK0D8O | A14VQRIH3FDX5K |         kittenkatt         |          5           |\n",
      "| 429239 | B003MWBFMK | A14VQRIH3FDX5K |         kittenkatt         |          5           |\n",
      "| 13737  | B000AY9U20 | A2KOAJM6JCFAJ1 |          H Roller          |          3           |\n",
      "|  1321  | B004EKO2HE | A1RQQ2HWUGEUWA |        EB MamaBear         |          3           |\n",
      "| 144963 | B003MA8P02 | A3TVZM3ZIXG8YW |     christopher hayes      |          7           |\n",
      "| 97977  | B0002MLA5K | A3TVZM3ZIXG8YW |     christopher hayes      |          3           |\n",
      "| 96886  | B003WK0D8O | A3TVZM3ZIXG8YW |     christopher hayes      |          2           |\n",
      "| 67510  | B009GHI6I6 | A3TVZM3ZIXG8YW |     christopher hayes      |          7           |\n",
      "| 432654 | B003MWBFXY | A3TVZM3ZIXG8YW |     christopher hayes      |          7           |\n",
      "| 445157 | B009GHI5Q4 | A3TVZM3ZIXG8YW |     christopher hayes      |          3           |\n",
      "|  2942  | B0002TJAZK | A3TVZM3ZIXG8YW |     christopher hayes      |          7           |\n",
      "| 499856 | B009B87SAC | A3TVZM3ZIXG8YW |     christopher hayes      |          11          |\n",
      "+--------+------------+----------------+----------------------------+----------------------+\n",
      "+------------------------+-------+------------+-------------------------------+\n",
      "| HelpfulnessDenominator | Score |    Time    |            Summary            |\n",
      "+------------------------+-------+------------+-------------------------------+\n",
      "|           1            |   1   | 1350172800 |   Recal effective 10/12/2012  |\n",
      "|           36           |   1   | 1342310400 | What Every Consumer Should... |\n",
      "|           36           |   1   | 1342310400 | What Every Consumer Should... |\n",
      "|           36           |   1   | 1342310400 | What Every Consumer Should... |\n",
      "|           36           |   1   | 1342310400 | What Every Consumer Should... |\n",
      "|           4            |   1   | 1334102400 |   TOXIC hexane still in it!   |\n",
      "|           3            |   1   | 1336953600 |     Recall on Diamond Food    |\n",
      "|           6            |   1   | 1309910400 | Sickening filler ingredien... |\n",
      "|           6            |   1   | 1309910400 | Sickening filler ingredien... |\n",
      "|           6            |   1   | 1309910400 | Sickening filler ingredien... |\n",
      "|           21           |   1   | 1194739200 | 1 gram of trans-fat per 16... |\n",
      "|           3            |   1   | 1323820800 | NOT what I originally orde... |\n",
      "|           9            |   1   | 1291420800 | Filler food is empty, leav... |\n",
      "|           3            |   1   | 1291420800 | Filler food is empty, leav... |\n",
      "|           4            |   1   | 1291420800 | Filler food is empty, leav... |\n",
      "|           11           |   1   | 1291420800 | Filler food is empty, leav... |\n",
      "|           9            |   1   | 1291420800 | Filler food is empty, leav... |\n",
      "|           3            |   1   | 1291420800 | Filler food is empty, leav... |\n",
      "|           11           |   1   | 1291420800 | Filler food is empty, leav... |\n",
      "|           15           |   1   | 1291420800 | Filler food is empty, leav... |\n",
      "+------------------------+-------+------------+-------------------------------+\n",
      "+-------------------------------+-------------------------------+\n",
      "|              Text             |           word_count          |\n",
      "+-------------------------------+-------------------------------+\n",
      "| [...]<br />Recall -- Firm ... | {'stores': 1, 'cherry': 1,... |\n",
      "| The taste of SodaStream di... | {'saves': 1, 'month': 1, '... |\n",
      "| The taste of SodaStream di... | {'saves': 1, 'month': 1, '... |\n",
      "| The taste of SodaStream di... | {'saves': 1, 'month': 1, '... |\n",
      "| The taste of SodaStream di... | {'saves': 1, 'month': 1, '... |\n",
      "| RECONSIDER THIS FORMULA!!<... | {'advertises': 1, 'vitamin... |\n",
      "| There is a recent recall o... | {'limited': 1, 'all': 2, '... |\n",
      "| I think the ingredients in... | {'foodsbr': 1, 'all': 1, '... |\n",
      "| I think the ingredients in... | {'foodsbr': 1, 'all': 1, '... |\n",
      "| I think the ingredients in... | {'foodsbr': 1, 'all': 1, '... |\n",
      "| As of Nov 2007, the Keeble... | {'serving': 1, 'from': 5, ... |\n",
      "| As another reviewer stated... | {'halaleverydaysaquin': 1,... |\n",
      "| This review will make me s... | {'all': 1, 'four': 3, 'vet... |\n",
      "| This review will make me s... | {'all': 1, 'four': 3, 'vet... |\n",
      "| This review will make me s... | {'all': 1, 'four': 3, 'vet... |\n",
      "| This review will make me s... | {'all': 1, 'four': 3, 'vet... |\n",
      "| This review will make me s... | {'all': 1, 'four': 3, 'vet... |\n",
      "| This review will make me s... | {'all': 1, 'four': 3, 'vet... |\n",
      "| This review will make me s... | {'all': 1, 'four': 3, 'vet... |\n",
      "| This review will make me s... | {'all': 1, 'four': 3, 'vet... |\n",
      "+-------------------------------+-------------------------------+\n",
      "+-------------------------------+-----------+-------------------+\n",
      "|        filter_stopwords       | sentiment |     prediction    |\n",
      "+-------------------------------+-----------+-------------------+\n",
      "| {'stores': 1, 'cherry': 1,... |     -1    | 5.98555234588e-84 |\n",
      "| {'2479br': 1, 'summer': 1,... |     -1    | 1.71982623467e-46 |\n",
      "| {'2479br': 1, 'summer': 1,... |     -1    | 1.71982623467e-46 |\n",
      "| {'2479br': 1, 'summer': 1,... |     -1    | 1.71982623467e-46 |\n",
      "| {'2479br': 1, 'summer': 1,... |     -1    | 1.71982623467e-46 |\n",
      "| {'advertises': 1, 'vitamin... |     -1    | 5.75070959423e-39 |\n",
      "| {'refund': 1, 'limited': 1... |     -1    | 1.79516748128e-34 |\n",
      "| {'foodsbr': 1, 'hyper': 1,... |     -1    | 5.53874990552e-33 |\n",
      "| {'foodsbr': 1, 'hyper': 1,... |     -1    | 5.53874990552e-33 |\n",
      "| {'foodsbr': 1, 'hyper': 1,... |     -1    | 5.53874990552e-33 |\n",
      "| {'serving': 1, 'infarction... |     -1    |  2.9727065033e-31 |\n",
      "| {'directed': 1, 'protocol'... |     -1    | 3.17029128694e-31 |\n",
      "| {'feed': 3, 'innova': 1, '... |     -1    |  4.7707230068e-28 |\n",
      "| {'feed': 3, 'innova': 1, '... |     -1    |  4.7707230068e-28 |\n",
      "| {'feed': 3, 'innova': 1, '... |     -1    |  4.7707230068e-28 |\n",
      "| {'feed': 3, 'innova': 1, '... |     -1    |  4.7707230068e-28 |\n",
      "| {'feed': 3, 'innova': 1, '... |     -1    |  4.7707230068e-28 |\n",
      "| {'feed': 3, 'innova': 1, '... |     -1    |  4.7707230068e-28 |\n",
      "| {'feed': 3, 'innova': 1, '... |     -1    |  4.7707230068e-28 |\n",
      "| {'feed': 3, 'innova': 1, '... |     -1    |  4.7707230068e-28 |\n",
      "+-------------------------------+-----------+-------------------+\n",
      "[20 rows x 14 columns]\n",
      "\n"
     ]
    }
   ],
   "source": [
    "top_20_negative = test_data.topk('prediction', k=20, reverse=True)\n",
    "top_20_negative.print_rows(num_rows=20)"
   ]
  },
  {
   "cell_type": "markdown",
   "metadata": {},
   "source": [
    "## Calcolo accuracy del classificatore\n",
    "\n",
    "L'accuracy può esssere calcolata come:\n",
    "\n",
    "$$\n",
    "\\mbox{accuracy} = \\frac{\\mbox{# correctly classified examples}}{\\mbox{# total examples}}\n",
    "$$\n",
    "\n",
    "Seguiamo i seguenti passi per costruire il metodo get_accuracy:\n",
    "\n",
    "* **Passo 1:** Usa il modello addestrato per calcolare le predizioni delle classi. \n",
    "* **Passo 2:** Conta il numero di osservazioni dove la classe prevista è correttamente classificata(ha la stessa etichetta della classe vera).\n",
    "* **Passo 3:** Dividi il totale delle previsioni corrette per il totale delle osservazioni nel dataset. \n",
    "\n"
   ]
  },
  {
   "cell_type": "code",
   "execution_count": null,
   "metadata": {
    "collapsed": true,
    "scrolled": true
   },
   "outputs": [],
   "source": [
    "def get_accuracy(model, data, true_labels):\n",
    "    # Passo 1: calcolo le previsioni delle classi\n",
    "    predictions = model.predict(data)\n",
    "    \n",
    "    # Passo 2 : conto il numero di previsioni corrette\n",
    "    num_correct = sum(predictions == true_labels)\n",
    "\n",
    "    # Calcolo accuracy dividendo le previsioni corrette per\n",
    "    # il numero totale delle osservazioni\n",
    "    accuracy = num_correct / len(data)\n",
    "    \n",
    "    return accuracy"
   ]
  },
  {
   "cell_type": "markdown",
   "metadata": {},
   "source": [
    "Ora calcoliamo l'accuracy di **sentiment_model** sui dati di test"
   ]
  },
  {
   "cell_type": "code",
   "execution_count": null,
   "metadata": {
    "collapsed": false
   },
   "outputs": [],
   "source": [
    "get_accuracy(sentiment_model, test_data, test_data['sentiment'])"
   ]
  },
  {
   "cell_type": "markdown",
   "metadata": {},
   "source": [
    "## Addestra un altro classificatore con poche parole \n",
    "\n",
    "Ci sono moltissime parole nel modello che abbiamo addestrato in precedenza. \n",
    "Addestriamo un classificatore più semplice utilizzando soltanto un sottoinsieme delle parole che si trovano nelle reviews."
   ]
  },
  {
   "cell_type": "code",
   "execution_count": null,
   "metadata": {
    "collapsed": true
   },
   "outputs": [],
   "source": [
    "significant_words = ['love', 'great', 'easy', 'old', 'little', 'perfect', 'loves', \n",
    "      'well', 'able','less', 'even', 'waste', 'disappointed', 'money', 'would', \n",
    "                     'return','disgusting','yummy','cool','acid','beautiful','baked','chocolate',\n",
    "                     'homemade', 'low-fat','nutty','pickled','plain','dry','fantastic',\n",
    "                     'delicious','delectable'\n",
    "                    ,'delightful','fantastic','flavored','flavorless','tasteful','tasteless'\n",
    "                    'tasty','tender','smelly','smells','rancid','small','fried','insipid','low','well']"
   ]
  },
  {
   "cell_type": "code",
   "execution_count": null,
   "metadata": {
    "collapsed": false
   },
   "outputs": [],
   "source": [
    "len(significant_words)"
   ]
  },
  {
   "cell_type": "markdown",
   "metadata": {},
   "source": [
    "Per ogni review, utilizziamo la colonna **word_count** e rimuoviamo le parole che non si trovano nella lista delle parole significative. Faremo questa cosa sia sui dati di train che di test"
   ]
  },
  {
   "cell_type": "code",
   "execution_count": null,
   "metadata": {
    "collapsed": false
   },
   "outputs": [],
   "source": [
    "train_data['word_count_subset'] = train_data['word_count'].dict_trim_by_keys (significant_words, exclude=False)\n",
    "test_data['word_count_subset'] = test_data['word_count'].dict_trim_by_keys(significant_words, exclude=False)"
   ]
  },
  {
   "cell_type": "markdown",
   "metadata": {},
   "source": [
    "Vediamo il primo esempio:"
   ]
  },
  {
   "cell_type": "code",
   "execution_count": null,
   "metadata": {
    "collapsed": false
   },
   "outputs": [],
   "source": [
    "train_data[100]['Text']"
   ]
  },
  {
   "cell_type": "code",
   "execution_count": null,
   "metadata": {
    "collapsed": false
   },
   "outputs": [],
   "source": [
    "print train_data[100]['filter_stopwords']"
   ]
  },
  {
   "cell_type": "markdown",
   "metadata": {},
   "source": [
    "La colonna **word_count_subset** è un sottoinsieme del dizionario, in questo esempio solo   1 `significant words` è presente nella review."
   ]
  },
  {
   "cell_type": "code",
   "execution_count": null,
   "metadata": {
    "collapsed": false
   },
   "outputs": [],
   "source": [
    "print train_data[100]['word_count_subset']"
   ]
  },
  {
   "cell_type": "code",
   "execution_count": null,
   "metadata": {
    "collapsed": true
   },
   "outputs": [],
   "source": [
    "## Addestra il modello sul sottoinsieme dei dati"
   ]
  },
  {
   "cell_type": "markdown",
   "metadata": {},
   "source": [
    "Costruiamo un classificatore con word_count_subset come feature e sentiment come target."
   ]
  },
  {
   "cell_type": "code",
   "execution_count": null,
   "metadata": {
    "collapsed": false,
    "scrolled": true
   },
   "outputs": [],
   "source": [
    "simple_model = graphlab.logistic_classifier.create(train_data,\n",
    "                                                   target = 'sentiment',\n",
    "                                                   features=['word_count_subset'],\n",
    "                                                   validation_set=None)\n",
    "simple_model"
   ]
  },
  {
   "cell_type": "markdown",
   "metadata": {},
   "source": [
    "Calcoliamo l'accuracy su questo nuovo modello:"
   ]
  },
  {
   "cell_type": "code",
   "execution_count": null,
   "metadata": {
    "collapsed": false
   },
   "outputs": [],
   "source": [
    "get_accuracy(simple_model, test_data, test_data['sentiment'])"
   ]
  },
  {
   "cell_type": "markdown",
   "metadata": {},
   "source": [
    "Analizziamo i coefficienti di questo modello"
   ]
  },
  {
   "cell_type": "code",
   "execution_count": null,
   "metadata": {
    "collapsed": false
   },
   "outputs": [],
   "source": [
    "simple_model.coefficients"
   ]
  },
  {
   "cell_type": "markdown",
   "metadata": {},
   "source": [
    "Ordiniamo i coefficienti in ordine decrescente per ottenere i coefficienti con gli effetti più positivi sul sentiment."
   ]
  },
  {
   "cell_type": "code",
   "execution_count": null,
   "metadata": {
    "collapsed": false
   },
   "outputs": [],
   "source": [
    "simple_model.coefficients.sort('value', ascending=False).print_rows(num_rows=47)"
   ]
  },
  {
   "cell_type": "code",
   "execution_count": null,
   "metadata": {
    "collapsed": false
   },
   "outputs": [],
   "source": [
    "len(simple_model.coefficients[simple_model.coefficients['value'] > 0])"
   ]
  },
  {
   "cell_type": "code",
   "execution_count": null,
   "metadata": {
    "collapsed": false
   },
   "outputs": [],
   "source": [
    "simple_model.coefficients[simple_model.coefficients['value'] >= 0]"
   ]
  },
  {
   "cell_type": "code",
   "execution_count": null,
   "metadata": {
    "collapsed": false
   },
   "outputs": [],
   "source": [
    "weights[weights['index'] == 'tasteful']"
   ]
  },
  {
   "cell_type": "markdown",
   "metadata": {},
   "source": [
    "# Confrontare i modelli"
   ]
  },
  {
   "cell_type": "markdown",
   "metadata": {},
   "source": [
    "Calcoliamo l'accuracy del  **sentiment_model** e del **simple_model** utilizzando il metodo `get__accuracy` implementato sopra\n",
    "\n",
    "Calcoliamo l'accuracy per **sentiment_model** sui dati di train"
   ]
  },
  {
   "cell_type": "code",
   "execution_count": null,
   "metadata": {
    "collapsed": false
   },
   "outputs": [],
   "source": [
    "get_accuracy(sentiment_model, train_data, train_data['sentiment'])"
   ]
  },
  {
   "cell_type": "markdown",
   "metadata": {},
   "source": [
    "Calcoliamo l'accuracy per **simple_model** sui dati di train"
   ]
  },
  {
   "cell_type": "code",
   "execution_count": null,
   "metadata": {
    "collapsed": false
   },
   "outputs": [],
   "source": [
    "get_accuracy(simple_model, train_data, train_data['sentiment'])"
   ]
  },
  {
   "cell_type": "markdown",
   "metadata": {},
   "source": [
    "Quale modello ha accuracy più alta sui dati di train?"
   ]
  },
  {
   "cell_type": "markdown",
   "metadata": {},
   "source": [
    "Ora facciamo la stessa cosa sui dati di test:"
   ]
  },
  {
   "cell_type": "code",
   "execution_count": null,
   "metadata": {
    "collapsed": false
   },
   "outputs": [],
   "source": [
    "get_accuracy(sentiment_model, test_data, test_data['sentiment'])"
   ]
  },
  {
   "cell_type": "code",
   "execution_count": null,
   "metadata": {
    "collapsed": false
   },
   "outputs": [],
   "source": [
    "get_accuracy(simple_model, test_data, test_data['sentiment'])"
   ]
  },
  {
   "cell_type": "markdown",
   "metadata": {},
   "source": [
    "**Quiz Question**: Which model (**sentiment_model** or **simple_model**) has higher accuracy on the TEST set?"
   ]
  },
  {
   "cell_type": "markdown",
   "metadata": {},
   "source": [
    "## Baseline: Majority class prediction\n",
    "\n",
    "E’ comune utilizzare un majority class classifier come modello di riferimento da comparare con il nostro. \n",
    "Il majority classifier prevede per tutte le osservazioni la classe il cui insieme ha un maggior numero di elementi.\n",
    "E’ necessario ottenere un punteggio maggiore all’approccio baseline, in modo che il modello abbia senso\n",
    "Qual è la majority class per i nostri dati di train?"
   ]
  },
  {
   "cell_type": "code",
   "execution_count": 20,
   "metadata": {
    "collapsed": false
   },
   "outputs": [],
   "source": [
    "num_positive  = (train_data['sentiment'] == +1).sum()\n",
    "num_negative = (train_data['sentiment'] == -1).sum()\n",
    "print num_positive\n",
    "print num_negative"
   ]
  },
  {
   "cell_type": "markdown",
   "metadata": {},
   "source": [
    "Calcolo, per ognuna delle classi all’interno dei dati di train il numero di osservazioni corrispondente. "
   ]
  },
  {
   "cell_type": "code",
   "execution_count": null,
   "metadata": {
    "collapsed": false,
    "scrolled": true
   },
   "outputs": [],
   "source": [
    "print float((test_data['sentiment'] == +1).sum()) / len(test_data)"
   ]
  }
 ],
 "metadata": {
  "kernelspec": {
   "display_name": "Python 2",
   "language": "python",
   "name": "python2"
  },
  "language_info": {
   "codemirror_mode": {
    "name": "ipython",
    "version": 2
   },
   "file_extension": ".py",
   "mimetype": "text/x-python",
   "name": "python",
   "nbconvert_exporter": "python",
   "pygments_lexer": "ipython2",
   "version": "2.7.13"
  }
 },
 "nbformat": 4,
 "nbformat_minor": 0
}
